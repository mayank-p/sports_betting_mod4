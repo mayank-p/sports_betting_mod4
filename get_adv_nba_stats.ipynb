{
 "cells": [
  {
   "cell_type": "code",
   "execution_count": null,
   "metadata": {},
   "outputs": [],
   "source": [
    "import requests\n",
    "from bs4 import BeautifulSoup\n",
    "import pandas as pd\n",
    "import time\n",
    "from selenium import webdriver\n",
    "from selenium.webdriver.chrome.options import Options "
   ]
  },
  {
   "cell_type": "code",
   "execution_count": null,
   "metadata": {},
   "outputs": [],
   "source": [
    "chrome_path = '/Users/MayankPhanse/Desktop/chromedriver'"
   ]
  },
  {
   "cell_type": "code",
   "execution_count": null,
   "metadata": {},
   "outputs": [],
   "source": [
    "options = Options() \n",
    "# set the window size\n",
    "options.add_argument('--window-size=500,300')\n",
    "\n",
    "# initialize the driver\n",
    "driver = webdriver.Chrome(chrome_path, \n",
    "                          options=options)\n",
    "driver.set_window_size(1400,1000)\n",
    "driver.get('https://stats.nba.com/teams/boxscores-traditional/?Season=2019-20&SeasonType=Regular%20Season')"
   ]
  },
  {
   "cell_type": "code",
   "execution_count": null,
   "metadata": {},
   "outputs": [],
   "source": [
    "def get_advfirst_half_stats():\n",
    "    driver.get('https://stats.nba.com/teams/boxscores-traditional/?Season=2019-20&SeasonType=Regular%20Season')\n",
    "    #clicks advanced filters\n",
    "    driver.find_element_by_xpath('/html/body/main/div[2]/div/div[2]/div/div/div[1]/div[4]/a').click()\n",
    "    time.sleep(1)\n",
    "    #clicks first half\n",
    "    driver.find_element_by_xpath('/html/body/main/div[2]/div/div[2]/div/div/div[2]/div[1]/div[2]/div[5]/div/label/select/option[2]').click()\n",
    "    time.sleep(1)\n",
    "    #clicks run it\n",
    "    driver.find_element_by_xpath('/html/body/main/div[2]/div/div[2]/div/div/div[2]/div[2]/stats-run-it/a').click()\n",
    "    time.sleep(1)\n",
    "    #clicks all\n",
    "    driver.find_element_by_xpath('/html/body/main/div[2]/div/div[2]/div/div/nba-stat-table/div[1]/div/div/select/option[1]').click()\n",
    "    \n",
    "    page_source = driver.page_source\n",
    "    soup = BeautifulSoup(page_source)\n",
    "    tables = soup.findAll('table')\n",
    "    table = tables[0].prettify()\n",
    "    first_half = pd.read_html(table)[0]\n",
    "\n",
    "#     first_half.to_csv('first_half.csv')\n",
    "    return first_half"
   ]
  },
  {
   "cell_type": "code",
   "execution_count": null,
   "metadata": {},
   "outputs": [],
   "source": [
    "def get_game_stats():\n",
    "    driver.set_window_size(1400,1000)\n",
    "    \n",
    "    driver.get('https://stats.nba.com/teams/boxscores-traditional/?Season=2019-20&SeasonType=Regular%20Season')\n",
    "    \n",
    "    #clicks all\n",
    "    driver.find_element_by_xpath('/html/body/main/div[2]/div/div[2]/div/div/nba-stat-table/div[1]/div/div/select/option[1]').click()\n",
    "    \n",
    "    page_source = driver.page_source\n",
    "    soup = BeautifulSoup(page_source)\n",
    "    tables = soup.findAll('table')\n",
    "    table = tables[0].prettify()\n",
    "    entire_game = pd.read_html(table)[0]\n",
    "\n",
    "    entire_game.to_csv('adv_nba_games.csv')"
   ]
  }
 ],
 "metadata": {
  "kernelspec": {
   "display_name": "Python [conda env:learn-env] *",
   "language": "python",
   "name": "conda-env-learn-env-py"
  },
  "language_info": {
   "codemirror_mode": {
    "name": "ipython",
    "version": 3
   },
   "file_extension": ".py",
   "mimetype": "text/x-python",
   "name": "python",
   "nbconvert_exporter": "python",
   "pygments_lexer": "ipython3",
   "version": "3.6.9"
  }
 },
 "nbformat": 4,
 "nbformat_minor": 2
}
