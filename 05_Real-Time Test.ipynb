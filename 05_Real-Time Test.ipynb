{
 "cells": [
  {
   "cell_type": "code",
   "execution_count": 1,
   "metadata": {},
   "outputs": [],
   "source": [
    "import pandas as pd\n",
    "import numpy as np\n",
    "import util\n",
    "import joblib"
   ]
  },
  {
   "cell_type": "code",
   "execution_count": 2,
   "metadata": {},
   "outputs": [],
   "source": [
    "def get_ht_stats():\n",
    "    \n",
    "    team_dict = {'ATL' : 0,\n",
    "             'BKN' : 1,\n",
    "             'BOS' : 2,\n",
    "             'CHA' : 3,\n",
    "             'CHI' : 4,\n",
    "             'CLE' : 5,\n",
    "             'DAL' : 6,\n",
    "             'DEN' : 7,\n",
    "             'DET' : 8,\n",
    "             'GSW' : 9,\n",
    "             'HOU' : 10,\n",
    "             'IND' : 11,\n",
    "             'LAC' : 12,\n",
    "             'LAL' : 13,\n",
    "             'MEM' : 14,\n",
    "             'MIA' : 15,\n",
    "             'MIL' : 16,\n",
    "             'MIN' : 17,\n",
    "             'NOP' : 18,\n",
    "             'NYK' : 19,\n",
    "             'OKC' : 20,\n",
    "             'ORL' : 21,\n",
    "             'PHI' : 22,\n",
    "             'PHX' : 23,\n",
    "             'POR' : 24,\n",
    "             'SAC' : 25,\n",
    "             'SAS' : 26,\n",
    "             'TOR' : 27,\n",
    "             'UTA' : 28,\n",
    "             'WAS' : 29}\n",
    "    \n",
    "    df = pd.DataFrame(columns = ['Team','PTS','FGM','FGA','FG%','3PM','3PA','3P%','FTM','FTA','FT%','OREB','DREB','REB','AST','TOV','STL','BLK','PF','+/-'],index = [0])\n",
    "    df['Team'] = input('Enter Team: ')\n",
    "    df['Team'] = df['Team'].map(team_dict)\n",
    "    df['PTS'] = int(input('Enter PTS: '))\n",
    "    df['FGM'] = int(input('Enter FGM: '))\n",
    "    df['FGA'] = int(input('Enter FGA: '))\n",
    "    df['FG%'] = df['FGM']/df['FGA']\n",
    "    df['3PM']= int(input('Enter 3PM: '))\n",
    "    df['3PA'] = int(input('Enter 3PA: '))\n",
    "    df['3P%'] = df['3PM']/df['3PA']\n",
    "    df['FTM'] = int(input('Enter FTM: '))\n",
    "    df['FTA'] = int(input('Enter FTA: '))\n",
    "    df['FT%'] = df['FTM']/df['FTA']\n",
    "    df['OREB'] = int(input('Enter OREB: '))\n",
    "    df['DREB'] = int(input('Enter DREB: '))\n",
    "    df['REB'] = df['OREB']+df['DREB']\n",
    "    df['AST'] = int(input('Enter AST: '))\n",
    "    df['TOV'] = int(input('Enter TOV: '))\n",
    "    df['STL']= int(input('Enter STL: '))\n",
    "    df['BLK'] = int(input('Enter BLK: '))\n",
    "    df['PF'] = int(input('Enter PF: '))\n",
    "    df['+/-'] = int(input('Enter +/-: '))\n",
    "    \n",
    "    return(df)\n"
   ]
  },
  {
   "cell_type": "code",
   "execution_count": 3,
   "metadata": {},
   "outputs": [],
   "source": [
    "model_w = joblib.load('model_w.sav')\n",
    "model_3 = joblib.load('model_3.sav')\n",
    "model_5 = joblib.load('model_5.sav')\n",
    "model_7 = joblib.load('model_7.sav')\n",
    "model_10 = joblib.load('model_10.sav')"
   ]
  },
  {
   "cell_type": "code",
   "execution_count": 4,
   "metadata": {},
   "outputs": [],
   "source": [
    "def get_bet():\n",
    "    df = get_ht_stats()\n",
    "    \n",
    "    df_bet = pd.DataFrame(columns = ['Win','Win by 3','Win by 5','Win by 7','Win by 10'], index = [0,1])\n",
    "    \n",
    "    df_bet['Win'][0] = model_w.predict(df)\n",
    "    df_bet['Win by 3'][0] = model_3.predict(df)\n",
    "    df_bet['Win by 5'][0] = model_5.predict(df)\n",
    "    df_bet['Win by 7'][0] = model_7.predict(df)\n",
    "    df_bet['Win by 10'][0] = model_10.predict(df)\n",
    "    \n",
    "    df_bet['Win'][1] =  np.around(model_w.predict_proba(df)[:,1]*100,decimals = 1)\n",
    "    df_bet['Win by 3'][1] = np.around(model_3.predict_proba(df)[:,1]*100,decimals = 1)\n",
    "    df_bet['Win by 5'][1] = np.around(model_5.predict_proba(df)[:,1]*100,decimals = 1)\n",
    "    df_bet['Win by 7'][1] = np.around(model_7.predict_proba(df)[:,1]*100,decimals = 1)\n",
    "    df_bet['Win by 10'][1] = np.around(model_10.predict_proba(df)[:,1]*100,decimals = 1)\n",
    "    \n",
    "    return(df_bet)"
   ]
  },
  {
   "cell_type": "code",
   "execution_count": 5,
   "metadata": {},
   "outputs": [
    {
     "name": "stdout",
     "output_type": "stream",
     "text": [
      "Enter Team: NYK\n",
      "Enter PTS: 73\n",
      "Enter FGM: 28\n",
      "Enter FGA: 52\n",
      "Enter 3PM: 9\n",
      "Enter 3PA: 17\n",
      "Enter FTM: 8\n",
      "Enter FTA: 9\n",
      "Enter OREB: 8\n",
      "Enter DREB: 19\n",
      "Enter AST: 17\n",
      "Enter TOV: 8\n",
      "Enter STL: 4\n",
      "Enter BLK: 4\n",
      "Enter PF: 10\n",
      "Enter +/-: 10\n"
     ]
    },
    {
     "data": {
      "text/html": [
       "<div>\n",
       "<style scoped>\n",
       "    .dataframe tbody tr th:only-of-type {\n",
       "        vertical-align: middle;\n",
       "    }\n",
       "\n",
       "    .dataframe tbody tr th {\n",
       "        vertical-align: top;\n",
       "    }\n",
       "\n",
       "    .dataframe thead th {\n",
       "        text-align: right;\n",
       "    }\n",
       "</style>\n",
       "<table border=\"1\" class=\"dataframe\">\n",
       "  <thead>\n",
       "    <tr style=\"text-align: right;\">\n",
       "      <th></th>\n",
       "      <th>Win</th>\n",
       "      <th>Win by 3</th>\n",
       "      <th>Win by 5</th>\n",
       "      <th>Win by 7</th>\n",
       "      <th>Win by 10</th>\n",
       "    </tr>\n",
       "  </thead>\n",
       "  <tbody>\n",
       "    <tr>\n",
       "      <td>0</td>\n",
       "      <td>[True]</td>\n",
       "      <td>[False]</td>\n",
       "      <td>[False]</td>\n",
       "      <td>[False]</td>\n",
       "      <td>[False]</td>\n",
       "    </tr>\n",
       "    <tr>\n",
       "      <td>1</td>\n",
       "      <td>[62.8]</td>\n",
       "      <td>[48.8]</td>\n",
       "      <td>[45.8]</td>\n",
       "      <td>[26.2]</td>\n",
       "      <td>[16.4]</td>\n",
       "    </tr>\n",
       "  </tbody>\n",
       "</table>\n",
       "</div>"
      ],
      "text/plain": [
       "      Win Win by 3 Win by 5 Win by 7 Win by 10\n",
       "0  [True]  [False]  [False]  [False]   [False]\n",
       "1  [62.8]   [48.8]   [45.8]   [26.2]    [16.4]"
      ]
     },
     "execution_count": 5,
     "metadata": {},
     "output_type": "execute_result"
    }
   ],
   "source": [
    "get_bet()"
   ]
  },
  {
   "cell_type": "code",
   "execution_count": 170,
   "metadata": {},
   "outputs": [
    {
     "name": "stdout",
     "output_type": "stream",
     "text": [
      "Enter Team: NOP\n",
      "Enter PTS: 61\n",
      "Enter FGM: 25\n",
      "Enter FGA: 56\n",
      "Enter 3PM: 3\n",
      "Enter 3PA: 17\n",
      "Enter FTM: 8\n",
      "Enter FTA: 11\n",
      "Enter OREB: 11\n",
      "Enter DREB: 22\n",
      "Enter AST: 13\n",
      "Enter TOV: 7\n",
      "Enter STL: 3\n",
      "Enter BLK: 3\n",
      "Enter PF: 3\n",
      "Enter +/-: -2\n"
     ]
    },
    {
     "data": {
      "text/html": [
       "<div>\n",
       "<style scoped>\n",
       "    .dataframe tbody tr th:only-of-type {\n",
       "        vertical-align: middle;\n",
       "    }\n",
       "\n",
       "    .dataframe tbody tr th {\n",
       "        vertical-align: top;\n",
       "    }\n",
       "\n",
       "    .dataframe thead th {\n",
       "        text-align: right;\n",
       "    }\n",
       "</style>\n",
       "<table border=\"1\" class=\"dataframe\">\n",
       "  <thead>\n",
       "    <tr style=\"text-align: right;\">\n",
       "      <th></th>\n",
       "      <th>Win</th>\n",
       "      <th>Win by 3</th>\n",
       "      <th>Win by 5</th>\n",
       "      <th>Win by 7</th>\n",
       "      <th>Win by 10</th>\n",
       "    </tr>\n",
       "  </thead>\n",
       "  <tbody>\n",
       "    <tr>\n",
       "      <td>0</td>\n",
       "      <td>[False]</td>\n",
       "      <td>[False]</td>\n",
       "      <td>[False]</td>\n",
       "      <td>[False]</td>\n",
       "      <td>[False]</td>\n",
       "    </tr>\n",
       "    <tr>\n",
       "      <td>1</td>\n",
       "      <td>[44.4]</td>\n",
       "      <td>[38.9]</td>\n",
       "      <td>[28.3]</td>\n",
       "      <td>[15.3]</td>\n",
       "      <td>[9.3]</td>\n",
       "    </tr>\n",
       "  </tbody>\n",
       "</table>\n",
       "</div>"
      ],
      "text/plain": [
       "       Win Win by 3 Win by 5 Win by 7 Win by 10\n",
       "0  [False]  [False]  [False]  [False]   [False]\n",
       "1   [44.4]   [38.9]   [28.3]   [15.3]     [9.3]"
      ]
     },
     "execution_count": 170,
     "metadata": {},
     "output_type": "execute_result"
    }
   ],
   "source": [
    "get_bet()"
   ]
  },
  {
   "cell_type": "code",
   "execution_count": null,
   "metadata": {},
   "outputs": [],
   "source": []
  }
 ],
 "metadata": {
  "kernelspec": {
   "display_name": "Python [conda env:learn-env] *",
   "language": "python",
   "name": "conda-env-learn-env-py"
  },
  "language_info": {
   "codemirror_mode": {
    "name": "ipython",
    "version": 3
   },
   "file_extension": ".py",
   "mimetype": "text/x-python",
   "name": "python",
   "nbconvert_exporter": "python",
   "pygments_lexer": "ipython3",
   "version": "3.6.9"
  }
 },
 "nbformat": 4,
 "nbformat_minor": 2
}
