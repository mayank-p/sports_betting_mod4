{
 "cells": [
  {
   "cell_type": "code",
   "execution_count": 2,
   "metadata": {},
   "outputs": [],
   "source": [
    "import pandas as pd\n",
    "import numpy as np\n",
    "import util\n",
    "import joblib"
   ]
  },
  {
   "cell_type": "code",
   "execution_count": 3,
   "metadata": {},
   "outputs": [],
   "source": [
    "def get_ht_stats():\n",
    "    \n",
    "    team_dict = {'ATL' : 0,\n",
    "             'BKN' : 1,\n",
    "             'BOS' : 2,\n",
    "             'CHA' : 3,\n",
    "             'CHI' : 4,\n",
    "             'CLE' : 5,\n",
    "             'DAL' : 6,\n",
    "             'DEN' : 7,\n",
    "             'DET' : 8,\n",
    "             'GSW' : 9,\n",
    "             'HOU' : 10,\n",
    "             'IND' : 11,\n",
    "             'LAC' : 12,\n",
    "             'LAL' : 13,\n",
    "             'MEM' : 14,\n",
    "             'MIA' : 15,\n",
    "             'MIL' : 16,\n",
    "             'MIN' : 17,\n",
    "             'NOP' : 18,\n",
    "             'NYK' : 19,\n",
    "             'OKC' : 20,\n",
    "             'ORL' : 21,\n",
    "             'PHI' : 22,\n",
    "             'PHX' : 23,\n",
    "             'POR' : 24,\n",
    "             'SAC' : 25,\n",
    "             'SAS' : 26,\n",
    "             'TOR' : 27,\n",
    "             'UTA' : 28,\n",
    "             'WAS' : 29}\n",
    "    \n",
    "    df = pd.DataFrame(columns = ['Team','PTS','FGM','FGA','FG%','3PM','3PA','3P%','FTM','FTA','FT%','OREB','DREB','REB','AST','TOV','STL','BLK','PF','+/-'],index = [0])\n",
    "    df['Team'] = input('Enter Team: ')\n",
    "    df['Team'] = df['Team'].map(team_dict)\n",
    "    df['PTS'] = int(input('Enter PTS: '))\n",
    "    df['FGM'] = int(input('Enter FGM: '))\n",
    "    df['FGA'] = int(input('Enter FGA: '))\n",
    "    df['FG%'] = df['FGM']/df['FGA']\n",
    "    df['3PM']= int(input('Enter 3PM: '))\n",
    "    df['3PA'] = int(input('Enter 3PA: '))\n",
    "    df['3P%'] = df['3PM']/df['3PA']\n",
    "    df['FTM'] = int(input('Enter FTM: '))\n",
    "    df['FTA'] = int(input('Enter FTA: '))\n",
    "    df['FT%'] = df['FTM']/df['FTA']\n",
    "    df['OREB'] = int(input('Enter OREB: '))\n",
    "    df['DREB'] = int(input('Enter DREB: '))\n",
    "    df['REB'] = df['OREB']+df['DREB']\n",
    "    df['AST'] = int(input('Enter AST: '))\n",
    "    df['TOV'] = int(input('Enter TOV: '))\n",
    "    df['STL']= int(input('Enter STL: '))\n",
    "    df['BLK'] = int(input('Enter BLK: '))\n",
    "    df['PF'] = int(input('Enter PF: '))\n",
    "    df['+/-'] = int(input('Enter +/-: '))\n",
    "    \n",
    "    return(df)\n"
   ]
  },
  {
   "cell_type": "code",
   "execution_count": 4,
   "metadata": {},
   "outputs": [],
   "source": [
    "model_w = joblib.load('model_w.sav')\n",
    "model_3 = joblib.load('model_3.sav')\n",
    "model_5 = joblib.load('model_5.sav')\n",
    "model_7 = joblib.load('model_7.sav')\n",
    "model_10 = joblib.load('model_10.sav')"
   ]
  },
  {
   "cell_type": "code",
   "execution_count": 5,
   "metadata": {},
   "outputs": [],
   "source": [
    "def get_bet():\n",
    "    df = get_ht_stats()\n",
    "    \n",
    "    df_bet = pd.DataFrame(columns = ['Win','Win by 3','Win by 5','Win by 7','Win by 10'], index = [0,1])\n",
    "    \n",
    "    df_bet['Win'][0] = model_w.predict(df)\n",
    "    df_bet['Win by 3'][0] = model_3.predict(df)\n",
    "    df_bet['Win by 5'][0] = model_5.predict(df)\n",
    "    df_bet['Win by 7'][0] = model_7.predict(df)\n",
    "    df_bet['Win by 10'][0] = model_10.predict(df)\n",
    "    \n",
    "    df_bet['Win'][1] =  np.around(model_w.predict_proba(df)[:,1]*100,decimals = 1)\n",
    "    df_bet['Win by 3'][1] = np.around(model_3.predict_proba(df)[:,1]*100,decimals = 1)\n",
    "    df_bet['Win by 5'][1] = np.around(model_5.predict_proba(df)[:,1]*100,decimals = 1)\n",
    "    df_bet['Win by 7'][1] = np.around(model_7.predict_proba(df)[:,1]*100,decimals = 1)\n",
    "    df_bet['Win by 10'][1] = np.around(model_10.predict_proba(df)[:,1]*100,decimals = 1)\n",
    "    \n",
    "    return(df_bet)"
   ]
  },
  {
   "cell_type": "code",
   "execution_count": 169,
   "metadata": {},
   "outputs": [
    {
     "name": "stdout",
     "output_type": "stream",
     "text": [
      "Enter Team: LAL\n",
      "Enter PTS: 63\n",
      "Enter FGM: 28\n",
      "Enter FGA: 54\n",
      "Enter 3PM: 6\n",
      "Enter 3PA: 15\n",
      "Enter FTM: 1\n",
      "Enter FTA: 2\n",
      "Enter OREB: 2\n",
      "Enter DREB: 15\n",
      "Enter AST: 12\n",
      "Enter TOV: 5\n",
      "Enter STL: 4\n",
      "Enter BLK: 3\n",
      "Enter PF: 10\n",
      "Enter +/-: 2\n"
     ]
    },
    {
     "data": {
      "text/html": [
       "<div>\n",
       "<style scoped>\n",
       "    .dataframe tbody tr th:only-of-type {\n",
       "        vertical-align: middle;\n",
       "    }\n",
       "\n",
       "    .dataframe tbody tr th {\n",
       "        vertical-align: top;\n",
       "    }\n",
       "\n",
       "    .dataframe thead th {\n",
       "        text-align: right;\n",
       "    }\n",
       "</style>\n",
       "<table border=\"1\" class=\"dataframe\">\n",
       "  <thead>\n",
       "    <tr style=\"text-align: right;\">\n",
       "      <th></th>\n",
       "      <th>Win</th>\n",
       "      <th>Win by 3</th>\n",
       "      <th>Win by 5</th>\n",
       "      <th>Win by 7</th>\n",
       "      <th>Win by 10</th>\n",
       "    </tr>\n",
       "  </thead>\n",
       "  <tbody>\n",
       "    <tr>\n",
       "      <td>0</td>\n",
       "      <td>[False]</td>\n",
       "      <td>[False]</td>\n",
       "      <td>[False]</td>\n",
       "      <td>[False]</td>\n",
       "      <td>[False]</td>\n",
       "    </tr>\n",
       "    <tr>\n",
       "      <td>1</td>\n",
       "      <td>[30.6]</td>\n",
       "      <td>[18.2]</td>\n",
       "      <td>[16.9]</td>\n",
       "      <td>[10.3]</td>\n",
       "      <td>[4.5]</td>\n",
       "    </tr>\n",
       "  </tbody>\n",
       "</table>\n",
       "</div>"
      ],
      "text/plain": [
       "       Win Win by 3 Win by 5 Win by 7 Win by 10\n",
       "0  [False]  [False]  [False]  [False]   [False]\n",
       "1   [30.6]   [18.2]   [16.9]   [10.3]     [4.5]"
      ]
     },
     "execution_count": 169,
     "metadata": {},
     "output_type": "execute_result"
    }
   ],
   "source": [
    "get_bet()"
   ]
  },
  {
   "cell_type": "code",
   "execution_count": 170,
   "metadata": {},
   "outputs": [
    {
     "name": "stdout",
     "output_type": "stream",
     "text": [
      "Enter Team: NOP\n",
      "Enter PTS: 61\n",
      "Enter FGM: 25\n",
      "Enter FGA: 56\n",
      "Enter 3PM: 3\n",
      "Enter 3PA: 17\n",
      "Enter FTM: 8\n",
      "Enter FTA: 11\n",
      "Enter OREB: 11\n",
      "Enter DREB: 22\n",
      "Enter AST: 13\n",
      "Enter TOV: 7\n",
      "Enter STL: 3\n",
      "Enter BLK: 3\n",
      "Enter PF: 3\n",
      "Enter +/-: -2\n"
     ]
    },
    {
     "data": {
      "text/html": [
       "<div>\n",
       "<style scoped>\n",
       "    .dataframe tbody tr th:only-of-type {\n",
       "        vertical-align: middle;\n",
       "    }\n",
       "\n",
       "    .dataframe tbody tr th {\n",
       "        vertical-align: top;\n",
       "    }\n",
       "\n",
       "    .dataframe thead th {\n",
       "        text-align: right;\n",
       "    }\n",
       "</style>\n",
       "<table border=\"1\" class=\"dataframe\">\n",
       "  <thead>\n",
       "    <tr style=\"text-align: right;\">\n",
       "      <th></th>\n",
       "      <th>Win</th>\n",
       "      <th>Win by 3</th>\n",
       "      <th>Win by 5</th>\n",
       "      <th>Win by 7</th>\n",
       "      <th>Win by 10</th>\n",
       "    </tr>\n",
       "  </thead>\n",
       "  <tbody>\n",
       "    <tr>\n",
       "      <td>0</td>\n",
       "      <td>[False]</td>\n",
       "      <td>[False]</td>\n",
       "      <td>[False]</td>\n",
       "      <td>[False]</td>\n",
       "      <td>[False]</td>\n",
       "    </tr>\n",
       "    <tr>\n",
       "      <td>1</td>\n",
       "      <td>[44.4]</td>\n",
       "      <td>[38.9]</td>\n",
       "      <td>[28.3]</td>\n",
       "      <td>[15.3]</td>\n",
       "      <td>[9.3]</td>\n",
       "    </tr>\n",
       "  </tbody>\n",
       "</table>\n",
       "</div>"
      ],
      "text/plain": [
       "       Win Win by 3 Win by 5 Win by 7 Win by 10\n",
       "0  [False]  [False]  [False]  [False]   [False]\n",
       "1   [44.4]   [38.9]   [28.3]   [15.3]     [9.3]"
      ]
     },
     "execution_count": 170,
     "metadata": {},
     "output_type": "execute_result"
    }
   ],
   "source": [
    "get_bet()"
   ]
  },
  {
   "cell_type": "code",
   "execution_count": 6,
   "metadata": {},
   "outputs": [
    {
     "ename": "KeyboardInterrupt",
     "evalue": "",
     "output_type": "error",
     "traceback": [
      "\u001b[0;31m---------------------------------------------------------------------------\u001b[0m",
      "\u001b[0;31mKeyboardInterrupt\u001b[0m                         Traceback (most recent call last)",
      "\u001b[0;32m/opt/anaconda3/envs/learn-env/lib/python3.6/site-packages/ipykernel/kernelbase.py\u001b[0m in \u001b[0;36m_input_request\u001b[0;34m(self, prompt, ident, parent, password)\u001b[0m\n\u001b[1;32m    884\u001b[0m             \u001b[0;32mtry\u001b[0m\u001b[0;34m:\u001b[0m\u001b[0;34m\u001b[0m\u001b[0;34m\u001b[0m\u001b[0m\n\u001b[0;32m--> 885\u001b[0;31m                 \u001b[0mident\u001b[0m\u001b[0;34m,\u001b[0m \u001b[0mreply\u001b[0m \u001b[0;34m=\u001b[0m \u001b[0mself\u001b[0m\u001b[0;34m.\u001b[0m\u001b[0msession\u001b[0m\u001b[0;34m.\u001b[0m\u001b[0mrecv\u001b[0m\u001b[0;34m(\u001b[0m\u001b[0mself\u001b[0m\u001b[0;34m.\u001b[0m\u001b[0mstdin_socket\u001b[0m\u001b[0;34m,\u001b[0m \u001b[0;36m0\u001b[0m\u001b[0;34m)\u001b[0m\u001b[0;34m\u001b[0m\u001b[0;34m\u001b[0m\u001b[0m\n\u001b[0m\u001b[1;32m    886\u001b[0m             \u001b[0;32mexcept\u001b[0m \u001b[0mException\u001b[0m\u001b[0;34m:\u001b[0m\u001b[0;34m\u001b[0m\u001b[0;34m\u001b[0m\u001b[0m\n",
      "\u001b[0;32m/opt/anaconda3/envs/learn-env/lib/python3.6/site-packages/jupyter_client/session.py\u001b[0m in \u001b[0;36mrecv\u001b[0;34m(self, socket, mode, content, copy)\u001b[0m\n\u001b[1;32m    802\u001b[0m         \u001b[0;32mtry\u001b[0m\u001b[0;34m:\u001b[0m\u001b[0;34m\u001b[0m\u001b[0;34m\u001b[0m\u001b[0m\n\u001b[0;32m--> 803\u001b[0;31m             \u001b[0mmsg_list\u001b[0m \u001b[0;34m=\u001b[0m \u001b[0msocket\u001b[0m\u001b[0;34m.\u001b[0m\u001b[0mrecv_multipart\u001b[0m\u001b[0;34m(\u001b[0m\u001b[0mmode\u001b[0m\u001b[0;34m,\u001b[0m \u001b[0mcopy\u001b[0m\u001b[0;34m=\u001b[0m\u001b[0mcopy\u001b[0m\u001b[0;34m)\u001b[0m\u001b[0;34m\u001b[0m\u001b[0;34m\u001b[0m\u001b[0m\n\u001b[0m\u001b[1;32m    804\u001b[0m         \u001b[0;32mexcept\u001b[0m \u001b[0mzmq\u001b[0m\u001b[0;34m.\u001b[0m\u001b[0mZMQError\u001b[0m \u001b[0;32mas\u001b[0m \u001b[0me\u001b[0m\u001b[0;34m:\u001b[0m\u001b[0;34m\u001b[0m\u001b[0;34m\u001b[0m\u001b[0m\n",
      "\u001b[0;32m/opt/anaconda3/envs/learn-env/lib/python3.6/site-packages/zmq/sugar/socket.py\u001b[0m in \u001b[0;36mrecv_multipart\u001b[0;34m(self, flags, copy, track)\u001b[0m\n\u001b[1;32m    474\u001b[0m         \"\"\"\n\u001b[0;32m--> 475\u001b[0;31m         \u001b[0mparts\u001b[0m \u001b[0;34m=\u001b[0m \u001b[0;34m[\u001b[0m\u001b[0mself\u001b[0m\u001b[0;34m.\u001b[0m\u001b[0mrecv\u001b[0m\u001b[0;34m(\u001b[0m\u001b[0mflags\u001b[0m\u001b[0;34m,\u001b[0m \u001b[0mcopy\u001b[0m\u001b[0;34m=\u001b[0m\u001b[0mcopy\u001b[0m\u001b[0;34m,\u001b[0m \u001b[0mtrack\u001b[0m\u001b[0;34m=\u001b[0m\u001b[0mtrack\u001b[0m\u001b[0;34m)\u001b[0m\u001b[0;34m]\u001b[0m\u001b[0;34m\u001b[0m\u001b[0;34m\u001b[0m\u001b[0m\n\u001b[0m\u001b[1;32m    476\u001b[0m         \u001b[0;31m# have first part already, only loop while more to receive\u001b[0m\u001b[0;34m\u001b[0m\u001b[0;34m\u001b[0m\u001b[0;34m\u001b[0m\u001b[0m\n",
      "\u001b[0;32mzmq/backend/cython/socket.pyx\u001b[0m in \u001b[0;36mzmq.backend.cython.socket.Socket.recv\u001b[0;34m()\u001b[0m\n",
      "\u001b[0;32mzmq/backend/cython/socket.pyx\u001b[0m in \u001b[0;36mzmq.backend.cython.socket.Socket.recv\u001b[0;34m()\u001b[0m\n",
      "\u001b[0;32mzmq/backend/cython/socket.pyx\u001b[0m in \u001b[0;36mzmq.backend.cython.socket._recv_copy\u001b[0;34m()\u001b[0m\n",
      "\u001b[0;32m/opt/anaconda3/envs/learn-env/lib/python3.6/site-packages/zmq/backend/cython/checkrc.pxd\u001b[0m in \u001b[0;36mzmq.backend.cython.checkrc._check_rc\u001b[0;34m()\u001b[0m\n",
      "\u001b[0;31mKeyboardInterrupt\u001b[0m: ",
      "\nDuring handling of the above exception, another exception occurred:\n",
      "\u001b[0;31mKeyboardInterrupt\u001b[0m                         Traceback (most recent call last)",
      "\u001b[0;32m<ipython-input-6-5463dc90272e>\u001b[0m in \u001b[0;36m<module>\u001b[0;34m\u001b[0m\n\u001b[0;32m----> 1\u001b[0;31m \u001b[0mget_bet\u001b[0m\u001b[0;34m(\u001b[0m\u001b[0;34m)\u001b[0m\u001b[0;34m\u001b[0m\u001b[0;34m\u001b[0m\u001b[0m\n\u001b[0m",
      "\u001b[0;32m<ipython-input-5-6bc4f935f575>\u001b[0m in \u001b[0;36mget_bet\u001b[0;34m()\u001b[0m\n\u001b[1;32m      1\u001b[0m \u001b[0;32mdef\u001b[0m \u001b[0mget_bet\u001b[0m\u001b[0;34m(\u001b[0m\u001b[0;34m)\u001b[0m\u001b[0;34m:\u001b[0m\u001b[0;34m\u001b[0m\u001b[0;34m\u001b[0m\u001b[0m\n\u001b[0;32m----> 2\u001b[0;31m     \u001b[0mdf\u001b[0m \u001b[0;34m=\u001b[0m \u001b[0mget_ht_stats\u001b[0m\u001b[0;34m(\u001b[0m\u001b[0;34m)\u001b[0m\u001b[0;34m\u001b[0m\u001b[0;34m\u001b[0m\u001b[0m\n\u001b[0m\u001b[1;32m      3\u001b[0m \u001b[0;34m\u001b[0m\u001b[0m\n\u001b[1;32m      4\u001b[0m     \u001b[0mdf_bet\u001b[0m \u001b[0;34m=\u001b[0m \u001b[0mpd\u001b[0m\u001b[0;34m.\u001b[0m\u001b[0mDataFrame\u001b[0m\u001b[0;34m(\u001b[0m\u001b[0mcolumns\u001b[0m \u001b[0;34m=\u001b[0m \u001b[0;34m[\u001b[0m\u001b[0;34m'Win'\u001b[0m\u001b[0;34m,\u001b[0m\u001b[0;34m'Win by 3'\u001b[0m\u001b[0;34m,\u001b[0m\u001b[0;34m'Win by 5'\u001b[0m\u001b[0;34m,\u001b[0m\u001b[0;34m'Win by 7'\u001b[0m\u001b[0;34m,\u001b[0m\u001b[0;34m'Win by 10'\u001b[0m\u001b[0;34m]\u001b[0m\u001b[0;34m,\u001b[0m \u001b[0mindex\u001b[0m \u001b[0;34m=\u001b[0m \u001b[0;34m[\u001b[0m\u001b[0;36m0\u001b[0m\u001b[0;34m,\u001b[0m\u001b[0;36m1\u001b[0m\u001b[0;34m]\u001b[0m\u001b[0;34m)\u001b[0m\u001b[0;34m\u001b[0m\u001b[0;34m\u001b[0m\u001b[0m\n\u001b[1;32m      5\u001b[0m \u001b[0;34m\u001b[0m\u001b[0m\n",
      "\u001b[0;32m<ipython-input-3-a9d9b4ab4e42>\u001b[0m in \u001b[0;36mget_ht_stats\u001b[0;34m()\u001b[0m\n\u001b[1;32m     33\u001b[0m \u001b[0;34m\u001b[0m\u001b[0m\n\u001b[1;32m     34\u001b[0m     \u001b[0mdf\u001b[0m \u001b[0;34m=\u001b[0m \u001b[0mpd\u001b[0m\u001b[0;34m.\u001b[0m\u001b[0mDataFrame\u001b[0m\u001b[0;34m(\u001b[0m\u001b[0mcolumns\u001b[0m \u001b[0;34m=\u001b[0m \u001b[0;34m[\u001b[0m\u001b[0;34m'Team'\u001b[0m\u001b[0;34m,\u001b[0m\u001b[0;34m'PTS'\u001b[0m\u001b[0;34m,\u001b[0m\u001b[0;34m'FGM'\u001b[0m\u001b[0;34m,\u001b[0m\u001b[0;34m'FGA'\u001b[0m\u001b[0;34m,\u001b[0m\u001b[0;34m'FG%'\u001b[0m\u001b[0;34m,\u001b[0m\u001b[0;34m'3PM'\u001b[0m\u001b[0;34m,\u001b[0m\u001b[0;34m'3PA'\u001b[0m\u001b[0;34m,\u001b[0m\u001b[0;34m'3P%'\u001b[0m\u001b[0;34m,\u001b[0m\u001b[0;34m'FTM'\u001b[0m\u001b[0;34m,\u001b[0m\u001b[0;34m'FTA'\u001b[0m\u001b[0;34m,\u001b[0m\u001b[0;34m'FT%'\u001b[0m\u001b[0;34m,\u001b[0m\u001b[0;34m'OREB'\u001b[0m\u001b[0;34m,\u001b[0m\u001b[0;34m'DREB'\u001b[0m\u001b[0;34m,\u001b[0m\u001b[0;34m'REB'\u001b[0m\u001b[0;34m,\u001b[0m\u001b[0;34m'AST'\u001b[0m\u001b[0;34m,\u001b[0m\u001b[0;34m'TOV'\u001b[0m\u001b[0;34m,\u001b[0m\u001b[0;34m'STL'\u001b[0m\u001b[0;34m,\u001b[0m\u001b[0;34m'BLK'\u001b[0m\u001b[0;34m,\u001b[0m\u001b[0;34m'PF'\u001b[0m\u001b[0;34m,\u001b[0m\u001b[0;34m'+/-'\u001b[0m\u001b[0;34m]\u001b[0m\u001b[0;34m,\u001b[0m\u001b[0mindex\u001b[0m \u001b[0;34m=\u001b[0m \u001b[0;34m[\u001b[0m\u001b[0;36m0\u001b[0m\u001b[0;34m]\u001b[0m\u001b[0;34m)\u001b[0m\u001b[0;34m\u001b[0m\u001b[0;34m\u001b[0m\u001b[0m\n\u001b[0;32m---> 35\u001b[0;31m     \u001b[0mdf\u001b[0m\u001b[0;34m[\u001b[0m\u001b[0;34m'Team'\u001b[0m\u001b[0;34m]\u001b[0m \u001b[0;34m=\u001b[0m \u001b[0minput\u001b[0m\u001b[0;34m(\u001b[0m\u001b[0;34m'Enter Team: '\u001b[0m\u001b[0;34m)\u001b[0m\u001b[0;34m\u001b[0m\u001b[0;34m\u001b[0m\u001b[0m\n\u001b[0m\u001b[1;32m     36\u001b[0m     \u001b[0mdf\u001b[0m\u001b[0;34m[\u001b[0m\u001b[0;34m'Team'\u001b[0m\u001b[0;34m]\u001b[0m \u001b[0;34m=\u001b[0m \u001b[0mdf\u001b[0m\u001b[0;34m[\u001b[0m\u001b[0;34m'Team'\u001b[0m\u001b[0;34m]\u001b[0m\u001b[0;34m.\u001b[0m\u001b[0mmap\u001b[0m\u001b[0;34m(\u001b[0m\u001b[0mteam_dict\u001b[0m\u001b[0;34m)\u001b[0m\u001b[0;34m\u001b[0m\u001b[0;34m\u001b[0m\u001b[0m\n\u001b[1;32m     37\u001b[0m     \u001b[0mdf\u001b[0m\u001b[0;34m[\u001b[0m\u001b[0;34m'PTS'\u001b[0m\u001b[0;34m]\u001b[0m \u001b[0;34m=\u001b[0m \u001b[0mint\u001b[0m\u001b[0;34m(\u001b[0m\u001b[0minput\u001b[0m\u001b[0;34m(\u001b[0m\u001b[0;34m'Enter PTS: '\u001b[0m\u001b[0;34m)\u001b[0m\u001b[0;34m)\u001b[0m\u001b[0;34m\u001b[0m\u001b[0;34m\u001b[0m\u001b[0m\n",
      "\u001b[0;32m/opt/anaconda3/envs/learn-env/lib/python3.6/site-packages/ipykernel/kernelbase.py\u001b[0m in \u001b[0;36mraw_input\u001b[0;34m(self, prompt)\u001b[0m\n\u001b[1;32m    858\u001b[0m             \u001b[0mself\u001b[0m\u001b[0;34m.\u001b[0m\u001b[0m_parent_ident\u001b[0m\u001b[0;34m,\u001b[0m\u001b[0;34m\u001b[0m\u001b[0;34m\u001b[0m\u001b[0m\n\u001b[1;32m    859\u001b[0m             \u001b[0mself\u001b[0m\u001b[0;34m.\u001b[0m\u001b[0m_parent_header\u001b[0m\u001b[0;34m,\u001b[0m\u001b[0;34m\u001b[0m\u001b[0;34m\u001b[0m\u001b[0m\n\u001b[0;32m--> 860\u001b[0;31m             \u001b[0mpassword\u001b[0m\u001b[0;34m=\u001b[0m\u001b[0;32mFalse\u001b[0m\u001b[0;34m,\u001b[0m\u001b[0;34m\u001b[0m\u001b[0;34m\u001b[0m\u001b[0m\n\u001b[0m\u001b[1;32m    861\u001b[0m         )\n\u001b[1;32m    862\u001b[0m \u001b[0;34m\u001b[0m\u001b[0m\n",
      "\u001b[0;32m/opt/anaconda3/envs/learn-env/lib/python3.6/site-packages/ipykernel/kernelbase.py\u001b[0m in \u001b[0;36m_input_request\u001b[0;34m(self, prompt, ident, parent, password)\u001b[0m\n\u001b[1;32m    888\u001b[0m             \u001b[0;32mexcept\u001b[0m \u001b[0mKeyboardInterrupt\u001b[0m\u001b[0;34m:\u001b[0m\u001b[0;34m\u001b[0m\u001b[0;34m\u001b[0m\u001b[0m\n\u001b[1;32m    889\u001b[0m                 \u001b[0;31m# re-raise KeyboardInterrupt, to truncate traceback\u001b[0m\u001b[0;34m\u001b[0m\u001b[0;34m\u001b[0m\u001b[0;34m\u001b[0m\u001b[0m\n\u001b[0;32m--> 890\u001b[0;31m                 \u001b[0;32mraise\u001b[0m \u001b[0mKeyboardInterrupt\u001b[0m\u001b[0;34m\u001b[0m\u001b[0;34m\u001b[0m\u001b[0m\n\u001b[0m\u001b[1;32m    891\u001b[0m             \u001b[0;32melse\u001b[0m\u001b[0;34m:\u001b[0m\u001b[0;34m\u001b[0m\u001b[0;34m\u001b[0m\u001b[0m\n\u001b[1;32m    892\u001b[0m                 \u001b[0;32mbreak\u001b[0m\u001b[0;34m\u001b[0m\u001b[0;34m\u001b[0m\u001b[0m\n",
      "\u001b[0;31mKeyboardInterrupt\u001b[0m: "
     ]
    }
   ],
   "source": [
    "get_bet()"
   ]
  },
  {
   "cell_type": "code",
   "execution_count": null,
   "metadata": {},
   "outputs": [],
   "source": []
  }
 ],
 "metadata": {
  "kernelspec": {
   "display_name": "Python [conda env:learn-env] *",
   "language": "python",
   "name": "conda-env-learn-env-py"
  }
 },
 "nbformat": 4,
 "nbformat_minor": 2
}
