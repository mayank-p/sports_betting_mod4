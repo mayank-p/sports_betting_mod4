{
 "cells": [
  {
   "cell_type": "code",
   "execution_count": 1,
   "metadata": {},
   "outputs": [
    {
     "name": "stderr",
     "output_type": "stream",
     "text": [
      "Using TensorFlow backend.\n"
     ]
    }
   ],
   "source": [
    "import numpy as np # linear algebra\n",
    "import pandas as pd # data processing, CSV file I/O (e.g. pd.read_csv)\n",
    "        \n",
    "import matplotlib.pyplot as plt\n",
    "from matplotlib import cm\n",
    "import seaborn as sns; sns.set()\n",
    "%matplotlib inline\n",
    "\n",
    "\n",
    "from sklearn.tree import DecisionTreeClassifier\n",
    "\n",
    "\n",
    "from imblearn.pipeline import make_pipeline, Pipeline\n",
    "from imblearn.over_sampling import SMOTE\n",
    "\n",
    "from mlxtend.plotting import plot_decision_regions\n",
    "from sklearn.svm import SVC\n",
    "from sklearn.linear_model import LogisticRegression\n",
    "from sklearn.preprocessing import KBinsDiscretizer, FunctionTransformer\n",
    "from sklearn.model_selection import cross_val_score\n",
    "from sklearn.preprocessing import MinMaxScaler\n",
    "from category_encoders import WOEEncoder\n",
    "from sklearn.pipeline import make_pipeline, Pipeline\n",
    "from sklearn.metrics import classification_report, confusion_matrix, accuracy_score, balanced_accuracy_score, roc_auc_score\n",
    "from sklearn.ensemble import RandomForestClassifier, ExtraTreesClassifier\n",
    "\n",
    "\n",
    "from sklearn.datasets import make_classification\n",
    "from sklearn.model_selection import train_test_split, GridSearchCV\n",
    "from sklearn.pipeline import Pipeline\n",
    "from sklearn.svm import LinearSVC\n",
    "from sklearn.preprocessing import MinMaxScaler, KBinsDiscretizer, FunctionTransformer\n",
    "from category_encoders import OneHotEncoder\n",
    "\n",
    "from mlxtend.evaluate import feature_importance_permutation\n",
    "from sklearn.model_selection import train_test_split\n",
    "\n",
    "from mlxtend.feature_extraction import PrincipalComponentAnalysis\n",
    "from mlxtend.preprocessing import standardize\n",
    "\n",
    "from mlxtend.plotting import plot_pca_correlation_graph\n",
    "\n",
    "\n",
    "from mlxtend.plotting import plot_decision_regions\n",
    "from sklearn.tree import DecisionTreeClassifier\n",
    "from sklearn.ensemble import RandomForestClassifier, ExtraTreesClassifier\n",
    "from sklearn.linear_model import LogisticRegression\n",
    "from sklearn.preprocessing import KBinsDiscretizer, FunctionTransformer\n",
    "from sklearn.model_selection import cross_val_score\n",
    "\n",
    "from sklearn.pipeline import make_pipeline, Pipeline\n",
    "\n",
    "import joypy\n",
    "\n",
    "import warnings\n",
    "warnings.filterwarnings(\"ignore\")\n",
    "# Any results you write to the current directory are saved as output."
   ]
  },
  {
   "cell_type": "code",
   "execution_count": 328,
   "metadata": {},
   "outputs": [],
   "source": [
    "df = pd.read_csv('clean_nba_games.csv')\n",
    "df.drop(['Unnamed: 0'],axis = 1, inplace=True)\n",
    "labels = df.columns\n"
   ]
  },
  {
   "cell_type": "code",
   "execution_count": 329,
   "metadata": {},
   "outputs": [
    {
     "data": {
      "text/html": [
       "<div>\n",
       "<style scoped>\n",
       "    .dataframe tbody tr th:only-of-type {\n",
       "        vertical-align: middle;\n",
       "    }\n",
       "\n",
       "    .dataframe tbody tr th {\n",
       "        vertical-align: top;\n",
       "    }\n",
       "\n",
       "    .dataframe thead th {\n",
       "        text-align: right;\n",
       "    }\n",
       "</style>\n",
       "<table border=\"1\" class=\"dataframe\">\n",
       "  <thead>\n",
       "    <tr style=\"text-align: right;\">\n",
       "      <th></th>\n",
       "      <th>Team</th>\n",
       "      <th>PTS</th>\n",
       "      <th>FGM</th>\n",
       "      <th>FGA</th>\n",
       "      <th>FG%</th>\n",
       "      <th>3PM</th>\n",
       "      <th>3PA</th>\n",
       "      <th>3P%</th>\n",
       "      <th>FTM</th>\n",
       "      <th>FTA</th>\n",
       "      <th>...</th>\n",
       "      <th>STL</th>\n",
       "      <th>BLK</th>\n",
       "      <th>PF</th>\n",
       "      <th>Team1</th>\n",
       "      <th>Team2</th>\n",
       "      <th>win_target</th>\n",
       "      <th>3_win_target</th>\n",
       "      <th>5_win_target</th>\n",
       "      <th>7_win_target</th>\n",
       "      <th>10_win_target</th>\n",
       "    </tr>\n",
       "  </thead>\n",
       "  <tbody>\n",
       "    <tr>\n",
       "      <td>0</td>\n",
       "      <td>MEM</td>\n",
       "      <td>96</td>\n",
       "      <td>42</td>\n",
       "      <td>90</td>\n",
       "      <td>46.7</td>\n",
       "      <td>2</td>\n",
       "      <td>17</td>\n",
       "      <td>11.8</td>\n",
       "      <td>10</td>\n",
       "      <td>12</td>\n",
       "      <td>...</td>\n",
       "      <td>6</td>\n",
       "      <td>12</td>\n",
       "      <td>18</td>\n",
       "      <td>MEM</td>\n",
       "      <td>DET</td>\n",
       "      <td>True</td>\n",
       "      <td>True</td>\n",
       "      <td>True</td>\n",
       "      <td>True</td>\n",
       "      <td>True</td>\n",
       "    </tr>\n",
       "    <tr>\n",
       "      <td>1</td>\n",
       "      <td>DEN</td>\n",
       "      <td>107</td>\n",
       "      <td>41</td>\n",
       "      <td>88</td>\n",
       "      <td>46.6</td>\n",
       "      <td>3</td>\n",
       "      <td>23</td>\n",
       "      <td>13.0</td>\n",
       "      <td>22</td>\n",
       "      <td>32</td>\n",
       "      <td>...</td>\n",
       "      <td>10</td>\n",
       "      <td>4</td>\n",
       "      <td>19</td>\n",
       "      <td>DEN</td>\n",
       "      <td>IND</td>\n",
       "      <td>False</td>\n",
       "      <td>False</td>\n",
       "      <td>False</td>\n",
       "      <td>False</td>\n",
       "      <td>False</td>\n",
       "    </tr>\n",
       "    <tr>\n",
       "      <td>2</td>\n",
       "      <td>GSW</td>\n",
       "      <td>84</td>\n",
       "      <td>33</td>\n",
       "      <td>77</td>\n",
       "      <td>42.9</td>\n",
       "      <td>3</td>\n",
       "      <td>20</td>\n",
       "      <td>15.0</td>\n",
       "      <td>15</td>\n",
       "      <td>21</td>\n",
       "      <td>...</td>\n",
       "      <td>9</td>\n",
       "      <td>1</td>\n",
       "      <td>20</td>\n",
       "      <td>GSW</td>\n",
       "      <td>MIN</td>\n",
       "      <td>False</td>\n",
       "      <td>False</td>\n",
       "      <td>False</td>\n",
       "      <td>False</td>\n",
       "      <td>False</td>\n",
       "    </tr>\n",
       "    <tr>\n",
       "      <td>3</td>\n",
       "      <td>NOP</td>\n",
       "      <td>84</td>\n",
       "      <td>32</td>\n",
       "      <td>89</td>\n",
       "      <td>36.0</td>\n",
       "      <td>3</td>\n",
       "      <td>32</td>\n",
       "      <td>9.4</td>\n",
       "      <td>17</td>\n",
       "      <td>21</td>\n",
       "      <td>...</td>\n",
       "      <td>4</td>\n",
       "      <td>2</td>\n",
       "      <td>23</td>\n",
       "      <td>NOP</td>\n",
       "      <td>DAL</td>\n",
       "      <td>False</td>\n",
       "      <td>False</td>\n",
       "      <td>False</td>\n",
       "      <td>False</td>\n",
       "      <td>False</td>\n",
       "    </tr>\n",
       "    <tr>\n",
       "      <td>4</td>\n",
       "      <td>GSW</td>\n",
       "      <td>79</td>\n",
       "      <td>33</td>\n",
       "      <td>83</td>\n",
       "      <td>39.8</td>\n",
       "      <td>3</td>\n",
       "      <td>17</td>\n",
       "      <td>17.6</td>\n",
       "      <td>10</td>\n",
       "      <td>12</td>\n",
       "      <td>...</td>\n",
       "      <td>11</td>\n",
       "      <td>8</td>\n",
       "      <td>20</td>\n",
       "      <td>GSW</td>\n",
       "      <td>ATL</td>\n",
       "      <td>False</td>\n",
       "      <td>False</td>\n",
       "      <td>False</td>\n",
       "      <td>False</td>\n",
       "      <td>False</td>\n",
       "    </tr>\n",
       "  </tbody>\n",
       "</table>\n",
       "<p>5 rows × 26 columns</p>\n",
       "</div>"
      ],
      "text/plain": [
       "  Team  PTS  FGM  FGA   FG%  3PM  3PA   3P%  FTM  FTA  ...  STL  BLK  PF  \\\n",
       "0  MEM   96   42   90  46.7    2   17  11.8   10   12  ...    6   12  18   \n",
       "1  DEN  107   41   88  46.6    3   23  13.0   22   32  ...   10    4  19   \n",
       "2  GSW   84   33   77  42.9    3   20  15.0   15   21  ...    9    1  20   \n",
       "3  NOP   84   32   89  36.0    3   32   9.4   17   21  ...    4    2  23   \n",
       "4  GSW   79   33   83  39.8    3   17  17.6   10   12  ...   11    8  20   \n",
       "\n",
       "   Team1  Team2  win_target  3_win_target  5_win_target  7_win_target  \\\n",
       "0    MEM    DET        True          True          True          True   \n",
       "1    DEN    IND       False         False         False         False   \n",
       "2    GSW    MIN       False         False         False         False   \n",
       "3    NOP    DAL       False         False         False         False   \n",
       "4    GSW    ATL       False         False         False         False   \n",
       "\n",
       "  10_win_target  \n",
       "0          True  \n",
       "1         False  \n",
       "2         False  \n",
       "3         False  \n",
       "4         False  \n",
       "\n",
       "[5 rows x 26 columns]"
      ]
     },
     "execution_count": 329,
     "metadata": {},
     "output_type": "execute_result"
    }
   ],
   "source": [
    "df.head()"
   ]
  },
  {
   "cell_type": "markdown",
   "metadata": {},
   "source": [
    "### Set Up Spread Targets"
   ]
  },
  {
   "cell_type": "code",
   "execution_count": 330,
   "metadata": {},
   "outputs": [],
   "source": [
    "win = 'win_target'\n",
    "ptwin3 = '3_win_target'\n",
    "ptwin5 = '5_win_target'\n",
    "ptwin7 = '7_win_target'\n",
    "ptwin10 = '10_win_target'\n",
    "yw = df[win]\n",
    "y3 = df[ptwin3]\n",
    "y5 = df[ptwin5]\n",
    "y7 = df[ptwin7]\n",
    "y10 = df[ptwin10]\n",
    "\n",
    "target_cols = ['win_target','3_win_target','5_win_target','7_win_target', '10_win_target']"
   ]
  },
  {
   "cell_type": "code",
   "execution_count": 149,
   "metadata": {
    "scrolled": true
   },
   "outputs": [
    {
     "data": {
      "text/plain": [
       "0        True\n",
       "1       False\n",
       "2       False\n",
       "3       False\n",
       "4       False\n",
       "        ...  \n",
       "1529     True\n",
       "1530     True\n",
       "1531     True\n",
       "1532     True\n",
       "1533     True\n",
       "Name: win_target, Length: 1534, dtype: bool"
      ]
     },
     "execution_count": 149,
     "metadata": {},
     "output_type": "execute_result"
    }
   ],
   "source": [
    "yw"
   ]
  },
  {
   "cell_type": "code",
   "execution_count": 150,
   "metadata": {},
   "outputs": [
    {
     "data": {
      "text/plain": [
       "0"
      ]
     },
     "execution_count": 150,
     "metadata": {},
     "output_type": "execute_result"
    }
   ],
   "source": [
    "df['Team'].isna().sum()"
   ]
  },
  {
   "cell_type": "code",
   "execution_count": 151,
   "metadata": {},
   "outputs": [
    {
     "data": {
      "text/plain": [
       "array(['MEM', 'DEN', 'GSW', 'NOP', 'SAS', 'ORL', 'PHX', 'LAC', 'NYK',\n",
       "       'DET', 'CLE', 'POR', 'SAC', 'CHI', 'IND', 'OKC', 'CHA', 'PHI',\n",
       "       'LAL', 'UTA', 'WAS', 'BOS', 'TOR', 'ATL', 'MIN', 'MIA', 'MIL',\n",
       "       'DAL', 'BKN', 'HOU'], dtype=object)"
      ]
     },
     "execution_count": 151,
     "metadata": {},
     "output_type": "execute_result"
    }
   ],
   "source": [
    "df['Team'].unique()"
   ]
  },
  {
   "cell_type": "markdown",
   "metadata": {},
   "source": [
    "**Create Dictionary of Teams**"
   ]
  },
  {
   "cell_type": "code",
   "execution_count": 152,
   "metadata": {},
   "outputs": [],
   "source": [
    "team_dict = {'ATL' : 0,\n",
    "             'BKN' : 1,\n",
    "             'BOS' : 2,\n",
    "             'CHA' : 3,\n",
    "             'CHI' : 4,\n",
    "             'CLE' : 5,\n",
    "             'DAL' : 6,\n",
    "             'DEN' : 7,\n",
    "             'DET' : 8,\n",
    "             'GSW' : 9,\n",
    "             'HOU' : 10,\n",
    "             'IND' : 11,\n",
    "             'LAC' : 12,\n",
    "             'LAL' : 13,\n",
    "             'MEM' : 14,\n",
    "             'MIA' : 15,\n",
    "             'MIL' : 16,\n",
    "             'MIN' : 17,\n",
    "             'NOP' : 18,\n",
    "             'NYK' : 19,\n",
    "             'OKC' : 20,\n",
    "             'ORL' : 21,\n",
    "             'PHI' : 22,\n",
    "             'PHX' : 23,\n",
    "             'POR' : 24,\n",
    "             'SAC' : 25,\n",
    "             'SAS' : 26,\n",
    "             'TOR' : 27,\n",
    "             'UTA' : 28,\n",
    "             'WAS' : 29}"
   ]
  },
  {
   "cell_type": "markdown",
   "metadata": {},
   "source": [
    "**Change Teams to Number Values**"
   ]
  },
  {
   "cell_type": "code",
   "execution_count": 153,
   "metadata": {},
   "outputs": [],
   "source": [
    "df['Team'] = df['Team'].map(team_dict)\n",
    "df['Team1'] = df['Team1'].map(team_dict)\n",
    "df['Team2'] = df['Team2'].map(team_dict)"
   ]
  },
  {
   "cell_type": "code",
   "execution_count": 154,
   "metadata": {},
   "outputs": [
    {
     "data": {
      "text/plain": [
       "0"
      ]
     },
     "execution_count": 154,
     "metadata": {},
     "output_type": "execute_result"
    }
   ],
   "source": [
    "df['Team2'].isna().sum()"
   ]
  },
  {
   "cell_type": "code",
   "execution_count": 155,
   "metadata": {},
   "outputs": [
    {
     "data": {
      "text/html": [
       "<div>\n",
       "<style scoped>\n",
       "    .dataframe tbody tr th:only-of-type {\n",
       "        vertical-align: middle;\n",
       "    }\n",
       "\n",
       "    .dataframe tbody tr th {\n",
       "        vertical-align: top;\n",
       "    }\n",
       "\n",
       "    .dataframe thead th {\n",
       "        text-align: right;\n",
       "    }\n",
       "</style>\n",
       "<table border=\"1\" class=\"dataframe\">\n",
       "  <thead>\n",
       "    <tr style=\"text-align: right;\">\n",
       "      <th></th>\n",
       "      <th>Team</th>\n",
       "      <th>PTS</th>\n",
       "      <th>FGM</th>\n",
       "      <th>FGA</th>\n",
       "      <th>FG%</th>\n",
       "      <th>3PM</th>\n",
       "      <th>3PA</th>\n",
       "      <th>3P%</th>\n",
       "      <th>FTM</th>\n",
       "      <th>FTA</th>\n",
       "      <th>...</th>\n",
       "      <th>STL</th>\n",
       "      <th>BLK</th>\n",
       "      <th>PF</th>\n",
       "      <th>Team1</th>\n",
       "      <th>Team2</th>\n",
       "      <th>win_target</th>\n",
       "      <th>3_win_target</th>\n",
       "      <th>5_win_target</th>\n",
       "      <th>7_win_target</th>\n",
       "      <th>10_win_target</th>\n",
       "    </tr>\n",
       "  </thead>\n",
       "  <tbody>\n",
       "    <tr>\n",
       "      <td>0</td>\n",
       "      <td>14</td>\n",
       "      <td>96</td>\n",
       "      <td>42</td>\n",
       "      <td>90</td>\n",
       "      <td>46.7</td>\n",
       "      <td>2</td>\n",
       "      <td>17</td>\n",
       "      <td>11.8</td>\n",
       "      <td>10</td>\n",
       "      <td>12</td>\n",
       "      <td>...</td>\n",
       "      <td>6</td>\n",
       "      <td>12</td>\n",
       "      <td>18</td>\n",
       "      <td>14</td>\n",
       "      <td>8</td>\n",
       "      <td>True</td>\n",
       "      <td>True</td>\n",
       "      <td>True</td>\n",
       "      <td>True</td>\n",
       "      <td>True</td>\n",
       "    </tr>\n",
       "    <tr>\n",
       "      <td>1</td>\n",
       "      <td>7</td>\n",
       "      <td>107</td>\n",
       "      <td>41</td>\n",
       "      <td>88</td>\n",
       "      <td>46.6</td>\n",
       "      <td>3</td>\n",
       "      <td>23</td>\n",
       "      <td>13.0</td>\n",
       "      <td>22</td>\n",
       "      <td>32</td>\n",
       "      <td>...</td>\n",
       "      <td>10</td>\n",
       "      <td>4</td>\n",
       "      <td>19</td>\n",
       "      <td>7</td>\n",
       "      <td>11</td>\n",
       "      <td>False</td>\n",
       "      <td>False</td>\n",
       "      <td>False</td>\n",
       "      <td>False</td>\n",
       "      <td>False</td>\n",
       "    </tr>\n",
       "    <tr>\n",
       "      <td>2</td>\n",
       "      <td>9</td>\n",
       "      <td>84</td>\n",
       "      <td>33</td>\n",
       "      <td>77</td>\n",
       "      <td>42.9</td>\n",
       "      <td>3</td>\n",
       "      <td>20</td>\n",
       "      <td>15.0</td>\n",
       "      <td>15</td>\n",
       "      <td>21</td>\n",
       "      <td>...</td>\n",
       "      <td>9</td>\n",
       "      <td>1</td>\n",
       "      <td>20</td>\n",
       "      <td>9</td>\n",
       "      <td>17</td>\n",
       "      <td>False</td>\n",
       "      <td>False</td>\n",
       "      <td>False</td>\n",
       "      <td>False</td>\n",
       "      <td>False</td>\n",
       "    </tr>\n",
       "    <tr>\n",
       "      <td>3</td>\n",
       "      <td>18</td>\n",
       "      <td>84</td>\n",
       "      <td>32</td>\n",
       "      <td>89</td>\n",
       "      <td>36.0</td>\n",
       "      <td>3</td>\n",
       "      <td>32</td>\n",
       "      <td>9.4</td>\n",
       "      <td>17</td>\n",
       "      <td>21</td>\n",
       "      <td>...</td>\n",
       "      <td>4</td>\n",
       "      <td>2</td>\n",
       "      <td>23</td>\n",
       "      <td>18</td>\n",
       "      <td>6</td>\n",
       "      <td>False</td>\n",
       "      <td>False</td>\n",
       "      <td>False</td>\n",
       "      <td>False</td>\n",
       "      <td>False</td>\n",
       "    </tr>\n",
       "    <tr>\n",
       "      <td>4</td>\n",
       "      <td>9</td>\n",
       "      <td>79</td>\n",
       "      <td>33</td>\n",
       "      <td>83</td>\n",
       "      <td>39.8</td>\n",
       "      <td>3</td>\n",
       "      <td>17</td>\n",
       "      <td>17.6</td>\n",
       "      <td>10</td>\n",
       "      <td>12</td>\n",
       "      <td>...</td>\n",
       "      <td>11</td>\n",
       "      <td>8</td>\n",
       "      <td>20</td>\n",
       "      <td>9</td>\n",
       "      <td>0</td>\n",
       "      <td>False</td>\n",
       "      <td>False</td>\n",
       "      <td>False</td>\n",
       "      <td>False</td>\n",
       "      <td>False</td>\n",
       "    </tr>\n",
       "  </tbody>\n",
       "</table>\n",
       "<p>5 rows × 26 columns</p>\n",
       "</div>"
      ],
      "text/plain": [
       "   Team  PTS  FGM  FGA   FG%  3PM  3PA   3P%  FTM  FTA  ...  STL  BLK  PF  \\\n",
       "0    14   96   42   90  46.7    2   17  11.8   10   12  ...    6   12  18   \n",
       "1     7  107   41   88  46.6    3   23  13.0   22   32  ...   10    4  19   \n",
       "2     9   84   33   77  42.9    3   20  15.0   15   21  ...    9    1  20   \n",
       "3    18   84   32   89  36.0    3   32   9.4   17   21  ...    4    2  23   \n",
       "4     9   79   33   83  39.8    3   17  17.6   10   12  ...   11    8  20   \n",
       "\n",
       "   Team1  Team2  win_target  3_win_target  5_win_target  7_win_target  \\\n",
       "0     14      8        True          True          True          True   \n",
       "1      7     11       False         False         False         False   \n",
       "2      9     17       False         False         False         False   \n",
       "3     18      6       False         False         False         False   \n",
       "4      9      0       False         False         False         False   \n",
       "\n",
       "   10_win_target  \n",
       "0           True  \n",
       "1          False  \n",
       "2          False  \n",
       "3          False  \n",
       "4          False  \n",
       "\n",
       "[5 rows x 26 columns]"
      ]
     },
     "execution_count": 155,
     "metadata": {},
     "output_type": "execute_result"
    }
   ],
   "source": [
    "df.head()"
   ]
  },
  {
   "cell_type": "markdown",
   "metadata": {},
   "source": [
    "## Create Naive Model"
   ]
  },
  {
   "cell_type": "code",
   "execution_count": 300,
   "metadata": {},
   "outputs": [],
   "source": [
    "X = df.drop(target_cols,axis = 1)"
   ]
  },
  {
   "cell_type": "code",
   "execution_count": 301,
   "metadata": {
    "scrolled": false
   },
   "outputs": [
    {
     "data": {
      "text/html": [
       "<div>\n",
       "<style scoped>\n",
       "    .dataframe tbody tr th:only-of-type {\n",
       "        vertical-align: middle;\n",
       "    }\n",
       "\n",
       "    .dataframe tbody tr th {\n",
       "        vertical-align: top;\n",
       "    }\n",
       "\n",
       "    .dataframe thead th {\n",
       "        text-align: right;\n",
       "    }\n",
       "</style>\n",
       "<table border=\"1\" class=\"dataframe\">\n",
       "  <thead>\n",
       "    <tr style=\"text-align: right;\">\n",
       "      <th></th>\n",
       "      <th>Team</th>\n",
       "      <th>PTS</th>\n",
       "      <th>FGM</th>\n",
       "      <th>FGA</th>\n",
       "      <th>FG%</th>\n",
       "      <th>3PM</th>\n",
       "      <th>3PA</th>\n",
       "      <th>3P%</th>\n",
       "      <th>FTM</th>\n",
       "      <th>FTA</th>\n",
       "      <th>...</th>\n",
       "      <th>OREB</th>\n",
       "      <th>DREB</th>\n",
       "      <th>REB</th>\n",
       "      <th>AST</th>\n",
       "      <th>TOV</th>\n",
       "      <th>STL</th>\n",
       "      <th>BLK</th>\n",
       "      <th>PF</th>\n",
       "      <th>Team1</th>\n",
       "      <th>Team2</th>\n",
       "    </tr>\n",
       "  </thead>\n",
       "  <tbody>\n",
       "    <tr>\n",
       "      <td>0</td>\n",
       "      <td>14</td>\n",
       "      <td>96</td>\n",
       "      <td>42</td>\n",
       "      <td>90</td>\n",
       "      <td>46.7</td>\n",
       "      <td>2</td>\n",
       "      <td>17</td>\n",
       "      <td>11.8</td>\n",
       "      <td>10</td>\n",
       "      <td>12</td>\n",
       "      <td>...</td>\n",
       "      <td>7</td>\n",
       "      <td>40</td>\n",
       "      <td>47</td>\n",
       "      <td>27</td>\n",
       "      <td>11</td>\n",
       "      <td>6</td>\n",
       "      <td>12</td>\n",
       "      <td>18</td>\n",
       "      <td>14</td>\n",
       "      <td>8</td>\n",
       "    </tr>\n",
       "    <tr>\n",
       "      <td>1</td>\n",
       "      <td>7</td>\n",
       "      <td>107</td>\n",
       "      <td>41</td>\n",
       "      <td>88</td>\n",
       "      <td>46.6</td>\n",
       "      <td>3</td>\n",
       "      <td>23</td>\n",
       "      <td>13.0</td>\n",
       "      <td>22</td>\n",
       "      <td>32</td>\n",
       "      <td>...</td>\n",
       "      <td>12</td>\n",
       "      <td>32</td>\n",
       "      <td>44</td>\n",
       "      <td>22</td>\n",
       "      <td>9</td>\n",
       "      <td>10</td>\n",
       "      <td>4</td>\n",
       "      <td>19</td>\n",
       "      <td>7</td>\n",
       "      <td>11</td>\n",
       "    </tr>\n",
       "    <tr>\n",
       "      <td>2</td>\n",
       "      <td>9</td>\n",
       "      <td>84</td>\n",
       "      <td>33</td>\n",
       "      <td>77</td>\n",
       "      <td>42.9</td>\n",
       "      <td>3</td>\n",
       "      <td>20</td>\n",
       "      <td>15.0</td>\n",
       "      <td>15</td>\n",
       "      <td>21</td>\n",
       "      <td>...</td>\n",
       "      <td>7</td>\n",
       "      <td>36</td>\n",
       "      <td>43</td>\n",
       "      <td>20</td>\n",
       "      <td>17</td>\n",
       "      <td>9</td>\n",
       "      <td>1</td>\n",
       "      <td>20</td>\n",
       "      <td>9</td>\n",
       "      <td>17</td>\n",
       "    </tr>\n",
       "    <tr>\n",
       "      <td>3</td>\n",
       "      <td>18</td>\n",
       "      <td>84</td>\n",
       "      <td>32</td>\n",
       "      <td>89</td>\n",
       "      <td>36.0</td>\n",
       "      <td>3</td>\n",
       "      <td>32</td>\n",
       "      <td>9.4</td>\n",
       "      <td>17</td>\n",
       "      <td>21</td>\n",
       "      <td>...</td>\n",
       "      <td>8</td>\n",
       "      <td>26</td>\n",
       "      <td>34</td>\n",
       "      <td>17</td>\n",
       "      <td>15</td>\n",
       "      <td>4</td>\n",
       "      <td>2</td>\n",
       "      <td>23</td>\n",
       "      <td>18</td>\n",
       "      <td>6</td>\n",
       "    </tr>\n",
       "    <tr>\n",
       "      <td>4</td>\n",
       "      <td>9</td>\n",
       "      <td>79</td>\n",
       "      <td>33</td>\n",
       "      <td>83</td>\n",
       "      <td>39.8</td>\n",
       "      <td>3</td>\n",
       "      <td>17</td>\n",
       "      <td>17.6</td>\n",
       "      <td>10</td>\n",
       "      <td>12</td>\n",
       "      <td>...</td>\n",
       "      <td>18</td>\n",
       "      <td>28</td>\n",
       "      <td>46</td>\n",
       "      <td>17</td>\n",
       "      <td>25</td>\n",
       "      <td>11</td>\n",
       "      <td>8</td>\n",
       "      <td>20</td>\n",
       "      <td>9</td>\n",
       "      <td>0</td>\n",
       "    </tr>\n",
       "  </tbody>\n",
       "</table>\n",
       "<p>5 rows × 21 columns</p>\n",
       "</div>"
      ],
      "text/plain": [
       "   Team  PTS  FGM  FGA   FG%  3PM  3PA   3P%  FTM  FTA  ...  OREB  DREB  REB  \\\n",
       "0    14   96   42   90  46.7    2   17  11.8   10   12  ...     7    40   47   \n",
       "1     7  107   41   88  46.6    3   23  13.0   22   32  ...    12    32   44   \n",
       "2     9   84   33   77  42.9    3   20  15.0   15   21  ...     7    36   43   \n",
       "3    18   84   32   89  36.0    3   32   9.4   17   21  ...     8    26   34   \n",
       "4     9   79   33   83  39.8    3   17  17.6   10   12  ...    18    28   46   \n",
       "\n",
       "   AST  TOV  STL  BLK  PF  Team1  Team2  \n",
       "0   27   11    6   12  18     14      8  \n",
       "1   22    9   10    4  19      7     11  \n",
       "2   20   17    9    1  20      9     17  \n",
       "3   17   15    4    2  23     18      6  \n",
       "4   17   25   11    8  20      9      0  \n",
       "\n",
       "[5 rows x 21 columns]"
      ]
     },
     "execution_count": 301,
     "metadata": {},
     "output_type": "execute_result"
    }
   ],
   "source": [
    "X.head()"
   ]
  },
  {
   "cell_type": "code",
   "execution_count": 302,
   "metadata": {},
   "outputs": [
    {
     "data": {
      "text/plain": [
       "Index(['Team', 'PTS', 'FGM', 'FGA', 'FG%', '3PM', '3PA', '3P%', 'FTM', 'FTA',\n",
       "       'FT%', 'OREB', 'DREB', 'REB', 'AST', 'TOV', 'STL', 'BLK', 'PF', 'Team1',\n",
       "       'Team2'],\n",
       "      dtype='object')"
      ]
     },
     "execution_count": 302,
     "metadata": {},
     "output_type": "execute_result"
    }
   ],
   "source": [
    "X.columns"
   ]
  },
  {
   "cell_type": "code",
   "execution_count": 322,
   "metadata": {},
   "outputs": [
    {
     "data": {
      "text/plain": [
       "Index(['PTS', 'FGM', 'FGA', 'FG%', '3PM', '3PA', '3P%', 'FTM', 'FTA', 'FT%',\n",
       "       'OREB', 'DREB', 'REB', 'AST', 'TOV', 'STL', 'BLK', 'PF', 'Team1',\n",
       "       'Team2'],\n",
       "      dtype='object')"
      ]
     },
     "execution_count": 322,
     "metadata": {},
     "output_type": "execute_result"
    }
   ],
   "source": [
    "rox.columns"
   ]
  },
  {
   "cell_type": "markdown",
   "metadata": {},
   "source": [
    "**Train Model and Test Accuracy on just Winning**"
   ]
  },
  {
   "cell_type": "code",
   "execution_count": 158,
   "metadata": {},
   "outputs": [],
   "source": [
    "X_train, X_test, y_train, y_test = train_test_split(X, yw, test_size=0.20)"
   ]
  },
  {
   "cell_type": "code",
   "execution_count": 253,
   "metadata": {},
   "outputs": [],
   "source": [
    "scaler = MinMaxScaler()\n",
    "lr = LogisticRegression()\n",
    "model_w = make_pipeline(scaler, lr)\n",
    "\n",
    "model_w.fit(X_train, y_train)\n",
    "\n",
    "train_preds = model_w.predict(X_train)\n",
    "test_preds = model_w.predict(X_test)"
   ]
  },
  {
   "cell_type": "code",
   "execution_count": 189,
   "metadata": {},
   "outputs": [
    {
     "data": {
      "text/plain": [
       "array([ True,  True,  True, ...,  True, False, False])"
      ]
     },
     "execution_count": 189,
     "metadata": {},
     "output_type": "execute_result"
    }
   ],
   "source": [
    "train_preds"
   ]
  },
  {
   "cell_type": "code",
   "execution_count": 190,
   "metadata": {
    "scrolled": false
   },
   "outputs": [
    {
     "name": "stdout",
     "output_type": "stream",
     "text": [
      "0.9171313841440716 +/- 0.014322601326498655\n"
     ]
    }
   ],
   "source": [
    "scores = cross_val_score(pipe, X, yw, cv=5, scoring='roc_auc')\n",
    "print(scores.mean(), \"+/-\", scores.std())"
   ]
  },
  {
   "cell_type": "markdown",
   "metadata": {},
   "source": [
    "**Train Model and Test Accuracy on Winning by 3**"
   ]
  },
  {
   "cell_type": "code",
   "execution_count": 191,
   "metadata": {},
   "outputs": [],
   "source": [
    "X_train, X_test, y_train, y_test = train_test_split(X, y3, test_size=0.20)"
   ]
  },
  {
   "cell_type": "code",
   "execution_count": 254,
   "metadata": {},
   "outputs": [],
   "source": [
    "scaler = MinMaxScaler()\n",
    "lr = LogisticRegression()\n",
    "model_3 = make_pipeline(scaler, lr)\n",
    "\n",
    "model_3.fit(X_train, y_train)\n",
    "\n",
    "train_preds = model_3.predict(X_train)\n",
    "test_preds = model_3.predict(X_test)"
   ]
  },
  {
   "cell_type": "code",
   "execution_count": 255,
   "metadata": {},
   "outputs": [
    {
     "name": "stdout",
     "output_type": "stream",
     "text": [
      "0.9073945281009583 +/- 0.012296337194740273\n"
     ]
    }
   ],
   "source": [
    "scores = cross_val_score(pipe, X, y3, cv=5, scoring='roc_auc')\n",
    "print(scores.mean(), \"+/-\", scores.std())"
   ]
  },
  {
   "cell_type": "markdown",
   "metadata": {},
   "source": [
    "**Train Model and Test Accuracy on Winning by 5**"
   ]
  },
  {
   "cell_type": "code",
   "execution_count": 262,
   "metadata": {},
   "outputs": [],
   "source": [
    "X_train, X_test, y_train, y_test = train_test_split(X, y5, test_size=0.20)"
   ]
  },
  {
   "cell_type": "code",
   "execution_count": 263,
   "metadata": {},
   "outputs": [],
   "source": [
    "scaler = MinMaxScaler()\n",
    "lr = LogisticRegression()\n",
    "model_5 = make_pipeline(scaler, lr)\n",
    "\n",
    "model_5.fit(X_train, y_train)\n",
    "\n",
    "train_preds = model_5.predict(X_train)\n",
    "test_preds = model_5.predict(X_test)"
   ]
  },
  {
   "cell_type": "code",
   "execution_count": 264,
   "metadata": {},
   "outputs": [
    {
     "name": "stdout",
     "output_type": "stream",
     "text": [
      "0.8946224526900834 +/- 0.023366866319487846\n"
     ]
    }
   ],
   "source": [
    "scores = cross_val_score(pipe, X, y5, cv=5, scoring='roc_auc')\n",
    "print(scores.mean(), \"+/-\", scores.std())"
   ]
  },
  {
   "cell_type": "markdown",
   "metadata": {},
   "source": [
    "**Train Model and Test Accuracy on Winning by 7**"
   ]
  },
  {
   "cell_type": "code",
   "execution_count": 259,
   "metadata": {},
   "outputs": [],
   "source": [
    "X_train, X_test, y_train, y_test = train_test_split(X, y7, test_size=0.20)"
   ]
  },
  {
   "cell_type": "code",
   "execution_count": 260,
   "metadata": {},
   "outputs": [],
   "source": [
    "scaler = MinMaxScaler()\n",
    "lr = LogisticRegression()\n",
    "model_7 = make_pipeline(scaler, lr)\n",
    "\n",
    "model_7.fit(X_train, y_train)\n",
    "\n",
    "train_preds = model_7.predict(X_train)\n",
    "test_preds = model_7.predict(X_test)"
   ]
  },
  {
   "cell_type": "code",
   "execution_count": 261,
   "metadata": {},
   "outputs": [
    {
     "name": "stdout",
     "output_type": "stream",
     "text": [
      "0.8935575399268622 +/- 0.02635483820178587\n"
     ]
    }
   ],
   "source": [
    "scores = cross_val_score(pipe, X, y7, cv=5, scoring='roc_auc')\n",
    "print(scores.mean(), \"+/-\", scores.std())"
   ]
  },
  {
   "cell_type": "markdown",
   "metadata": {},
   "source": [
    "**Train Model and Test Accuracy on Winning by 10**"
   ]
  },
  {
   "cell_type": "code",
   "execution_count": 265,
   "metadata": {},
   "outputs": [],
   "source": [
    "X_train, X_test, y_train, y_test = train_test_split(X, y10, test_size=0.20)"
   ]
  },
  {
   "cell_type": "code",
   "execution_count": 266,
   "metadata": {},
   "outputs": [],
   "source": [
    "scaler = MinMaxScaler()\n",
    "lr = LogisticRegression()\n",
    "model_10 = make_pipeline(scaler, lr)\n",
    "\n",
    "model_10.fit(X_train, y_train)\n",
    "\n",
    "\n",
    "train_preds = model_10.predict(X_train)\n",
    "test_preds = model_10.predict(X_test)"
   ]
  },
  {
   "cell_type": "code",
   "execution_count": 267,
   "metadata": {},
   "outputs": [
    {
     "name": "stdout",
     "output_type": "stream",
     "text": [
      "0.9017850263817511 +/- 0.021430648108705572\n"
     ]
    }
   ],
   "source": [
    "scores = cross_val_score(pipe, X, y10, cv=5, scoring='roc_auc')\n",
    "print(scores.mean(), \"+/-\", scores.std())"
   ]
  },
  {
   "cell_type": "markdown",
   "metadata": {},
   "source": [
    "**Create Function for Calculating Spread**"
   ]
  },
  {
   "cell_type": "code",
   "execution_count": 174,
   "metadata": {},
   "outputs": [],
   "source": [
    "def get_cross_val_scores(X,y):\n",
    "    #create train test split\n",
    "    X_train, X_test, y_train, y_test = train_test_split(X, y, test_size=0.20)\n",
    "    \n",
    "    #train model and predict\n",
    "    scaler = MinMaxScaler()\n",
    "    lr = LogisticRegression()\n",
    "    pipe = make_pipeline(scaler, lr)\n",
    "\n",
    "    pipe.fit(X_train, y_train)\n",
    "\n",
    "    train_preds = pipe.predict(X_train)\n",
    "    test_preds = pipe.predict(X_test)\n",
    "    \n",
    "    #print out scores\n",
    "    scores = cross_val_score(pipe, X, y10, cv=5, scoring='roc_auc')\n",
    "    print(scores.mean(), \"+/-\", scores.std())"
   ]
  },
  {
   "cell_type": "code",
   "execution_count": 175,
   "metadata": {},
   "outputs": [
    {
     "name": "stdout",
     "output_type": "stream",
     "text": [
      "0.9255737740046996 +/- 0.013180348473862062\n"
     ]
    }
   ],
   "source": [
    "get_cross_val_scores(X,y3)"
   ]
  },
  {
   "cell_type": "code",
   "execution_count": null,
   "metadata": {},
   "outputs": [],
   "source": [
    "def win_pipeline()"
   ]
  },
  {
   "cell_type": "code",
   "execution_count": 176,
   "metadata": {},
   "outputs": [
    {
     "name": "stdout",
     "output_type": "stream",
     "text": [
      "nan +/- nan\n"
     ]
    }
   ],
   "source": [
    "def stringify(data):\n",
    "    df = pd.DataFrame(data)\n",
    "    for c in df.columns.tolist():\n",
    "        df[c] = df[c].astype(str)\n",
    "    return df\n",
    "\n",
    "binner = KBinsDiscretizer(n_bins=10, encode='ordinal', strategy='quantile')\n",
    "objectify = FunctionTransformer(func=stringify, \n",
    "                                validate=False)\n",
    "clf = LogisticRegression(class_weight='balanced')\n",
    "encoder = WOEEncoder()\n",
    "scorecard = make_pipeline(binner, objectify, encoder, lr)\n",
    "\n",
    "\n",
    "scores = cross_val_score(scorecard, X, yw, cv=5, scoring='roc_auc')\n",
    "print(scores.mean(), \"+/-\", scores.std())"
   ]
  },
  {
   "cell_type": "markdown",
   "metadata": {},
   "source": [
    "## Feature Importances"
   ]
  },
  {
   "cell_type": "code",
   "execution_count": 1,
   "metadata": {},
   "outputs": [
    {
     "ename": "NameError",
     "evalue": "name 'Pipeline' is not defined",
     "output_type": "error",
     "traceback": [
      "\u001b[0;31m---------------------------------------------------------------------------\u001b[0m",
      "\u001b[0;31mNameError\u001b[0m                                 Traceback (most recent call last)",
      "\u001b[0;32m<ipython-input-1-8035d63888f4>\u001b[0m in \u001b[0;36m<module>\u001b[0;34m\u001b[0m\n\u001b[0;32m----> 1\u001b[0;31m \u001b[0mX\u001b[0m \u001b[0;34m=\u001b[0m \u001b[0mPipeline\u001b[0m\u001b[0;34m(\u001b[0m\u001b[0mscorecard\u001b[0m\u001b[0;34m.\u001b[0m\u001b[0msteps\u001b[0m\u001b[0;34m[\u001b[0m\u001b[0;34m:\u001b[0m\u001b[0;34m-\u001b[0m\u001b[0;36m1\u001b[0m\u001b[0;34m]\u001b[0m\u001b[0;34m)\u001b[0m\u001b[0;34m.\u001b[0m\u001b[0mfit_transform\u001b[0m\u001b[0;34m(\u001b[0m\u001b[0mX\u001b[0m\u001b[0;34m,\u001b[0m \u001b[0myw\u001b[0m\u001b[0;34m)\u001b[0m\u001b[0;34m.\u001b[0m\u001b[0mvalues\u001b[0m\u001b[0;34m\u001b[0m\u001b[0;34m\u001b[0m\u001b[0m\n\u001b[0m\u001b[1;32m      2\u001b[0m \u001b[0mused_cols\u001b[0m \u001b[0;34m=\u001b[0m \u001b[0;34m[\u001b[0m\u001b[0mc\u001b[0m \u001b[0;32mfor\u001b[0m \u001b[0mc\u001b[0m \u001b[0;32min\u001b[0m \u001b[0mdf\u001b[0m\u001b[0;34m.\u001b[0m\u001b[0mcolumns\u001b[0m\u001b[0;34m.\u001b[0m\u001b[0mtolist\u001b[0m\u001b[0;34m(\u001b[0m\u001b[0;34m)\u001b[0m \u001b[0;32mif\u001b[0m \u001b[0mc\u001b[0m \u001b[0;32mnot\u001b[0m \u001b[0;32min\u001b[0m \u001b[0;34m[\u001b[0m\u001b[0mtarget_cols\u001b[0m\u001b[0;34m]\u001b[0m\u001b[0;34m]\u001b[0m\u001b[0;34m\u001b[0m\u001b[0;34m\u001b[0m\u001b[0m\n\u001b[1;32m      3\u001b[0m \u001b[0;34m\u001b[0m\u001b[0m\n\u001b[1;32m      4\u001b[0m X_train, X_test, y_train, y_test = train_test_split(\n\u001b[1;32m      5\u001b[0m     X, yw, test_size=0.2, random_state=1, stratify=yw)\n",
      "\u001b[0;31mNameError\u001b[0m: name 'Pipeline' is not defined"
     ]
    }
   ],
   "source": [
    "X = Pipeline(scorecard.steps[:-1]).fit_transform(X, yw).values\n",
    "used_cols = [c for c in df.columns.tolist() if c not in [target_cols]]\n",
    "\n",
    "X_train, X_test, y_train, y_test = train_test_split(\n",
    "    X, yw, test_size=0.2, random_state=1, stratify=yw)\n",
    "\n",
    "clf.fit(X_train, y_train)\n",
    "imp_vals, imp_all = feature_importance_permutation(\n",
    "    predict_method=clf.predict, \n",
    "    X=X_test,\n",
    "    y=y_test,\n",
    "    metric='accuracy',\n",
    "    num_rounds=10,\n",
    "    seed=1)\n",
    "\n",
    "std = np.std(imp_all, axis=1)\n",
    "indices = np.argsort(imp_vals)[::-1]\n",
    "\n",
    "plt.figure()\n",
    "plt.title(\"Scorecard Feature Importance via Permutation Importance\")\n",
    "plt.bar(range(X.shape[1]), imp_vals[indices],\n",
    "        yerr=std[indices])\n",
    "# plt.xticks(range(X.shape[1]), indices)\n",
    "plt.xticks(range(X.shape[1]), np.array(used_cols)[indices], rotation = 90)\n",
    "plt.xlim([-1, X.shape[1]])\n",
    "plt.ylim([0, 0.18])\n",
    "plt.show()"
   ]
  },
  {
   "cell_type": "markdown",
   "metadata": {},
   "source": [
    "## Create Average Values for Teams"
   ]
  },
  {
   "cell_type": "code",
   "execution_count": 331,
   "metadata": {},
   "outputs": [],
   "source": [
    "team = df.groupby(['Team']).mean()"
   ]
  },
  {
   "cell_type": "code",
   "execution_count": 332,
   "metadata": {},
   "outputs": [
    {
     "ename": "KeyError",
     "evalue": "\"['win_target' '3_win_target' '5_win_target' '7_win_target' '10_win_target'] not found in axis\"",
     "output_type": "error",
     "traceback": [
      "\u001b[0;31m---------------------------------------------------------------------------\u001b[0m",
      "\u001b[0;31mKeyError\u001b[0m                                  Traceback (most recent call last)",
      "\u001b[0;32m<ipython-input-332-f8ac481ce9d8>\u001b[0m in \u001b[0;36m<module>\u001b[0;34m\u001b[0m\n\u001b[0;32m----> 1\u001b[0;31m \u001b[0mteam_X\u001b[0m \u001b[0;34m=\u001b[0m \u001b[0mteam\u001b[0m\u001b[0;34m.\u001b[0m\u001b[0mdrop\u001b[0m\u001b[0;34m(\u001b[0m\u001b[0mtarget_cols\u001b[0m\u001b[0;34m,\u001b[0m\u001b[0maxis\u001b[0m \u001b[0;34m=\u001b[0m \u001b[0;36m0\u001b[0m\u001b[0;34m)\u001b[0m\u001b[0;34m\u001b[0m\u001b[0;34m\u001b[0m\u001b[0m\n\u001b[0m",
      "\u001b[0;32m/opt/anaconda3/envs/learn-env/lib/python3.6/site-packages/pandas/core/frame.py\u001b[0m in \u001b[0;36mdrop\u001b[0;34m(self, labels, axis, index, columns, level, inplace, errors)\u001b[0m\n\u001b[1;32m   4100\u001b[0m             \u001b[0mlevel\u001b[0m\u001b[0;34m=\u001b[0m\u001b[0mlevel\u001b[0m\u001b[0;34m,\u001b[0m\u001b[0;34m\u001b[0m\u001b[0;34m\u001b[0m\u001b[0m\n\u001b[1;32m   4101\u001b[0m             \u001b[0minplace\u001b[0m\u001b[0;34m=\u001b[0m\u001b[0minplace\u001b[0m\u001b[0;34m,\u001b[0m\u001b[0;34m\u001b[0m\u001b[0;34m\u001b[0m\u001b[0m\n\u001b[0;32m-> 4102\u001b[0;31m             \u001b[0merrors\u001b[0m\u001b[0;34m=\u001b[0m\u001b[0merrors\u001b[0m\u001b[0;34m,\u001b[0m\u001b[0;34m\u001b[0m\u001b[0;34m\u001b[0m\u001b[0m\n\u001b[0m\u001b[1;32m   4103\u001b[0m         )\n\u001b[1;32m   4104\u001b[0m \u001b[0;34m\u001b[0m\u001b[0m\n",
      "\u001b[0;32m/opt/anaconda3/envs/learn-env/lib/python3.6/site-packages/pandas/core/generic.py\u001b[0m in \u001b[0;36mdrop\u001b[0;34m(self, labels, axis, index, columns, level, inplace, errors)\u001b[0m\n\u001b[1;32m   3912\u001b[0m         \u001b[0;32mfor\u001b[0m \u001b[0maxis\u001b[0m\u001b[0;34m,\u001b[0m \u001b[0mlabels\u001b[0m \u001b[0;32min\u001b[0m \u001b[0maxes\u001b[0m\u001b[0;34m.\u001b[0m\u001b[0mitems\u001b[0m\u001b[0;34m(\u001b[0m\u001b[0;34m)\u001b[0m\u001b[0;34m:\u001b[0m\u001b[0;34m\u001b[0m\u001b[0;34m\u001b[0m\u001b[0m\n\u001b[1;32m   3913\u001b[0m             \u001b[0;32mif\u001b[0m \u001b[0mlabels\u001b[0m \u001b[0;32mis\u001b[0m \u001b[0;32mnot\u001b[0m \u001b[0;32mNone\u001b[0m\u001b[0;34m:\u001b[0m\u001b[0;34m\u001b[0m\u001b[0;34m\u001b[0m\u001b[0m\n\u001b[0;32m-> 3914\u001b[0;31m                 \u001b[0mobj\u001b[0m \u001b[0;34m=\u001b[0m \u001b[0mobj\u001b[0m\u001b[0;34m.\u001b[0m\u001b[0m_drop_axis\u001b[0m\u001b[0;34m(\u001b[0m\u001b[0mlabels\u001b[0m\u001b[0;34m,\u001b[0m \u001b[0maxis\u001b[0m\u001b[0;34m,\u001b[0m \u001b[0mlevel\u001b[0m\u001b[0;34m=\u001b[0m\u001b[0mlevel\u001b[0m\u001b[0;34m,\u001b[0m \u001b[0merrors\u001b[0m\u001b[0;34m=\u001b[0m\u001b[0merrors\u001b[0m\u001b[0;34m)\u001b[0m\u001b[0;34m\u001b[0m\u001b[0;34m\u001b[0m\u001b[0m\n\u001b[0m\u001b[1;32m   3915\u001b[0m \u001b[0;34m\u001b[0m\u001b[0m\n\u001b[1;32m   3916\u001b[0m         \u001b[0;32mif\u001b[0m \u001b[0minplace\u001b[0m\u001b[0;34m:\u001b[0m\u001b[0;34m\u001b[0m\u001b[0;34m\u001b[0m\u001b[0m\n",
      "\u001b[0;32m/opt/anaconda3/envs/learn-env/lib/python3.6/site-packages/pandas/core/generic.py\u001b[0m in \u001b[0;36m_drop_axis\u001b[0;34m(self, labels, axis, level, errors)\u001b[0m\n\u001b[1;32m   3944\u001b[0m                 \u001b[0mnew_axis\u001b[0m \u001b[0;34m=\u001b[0m \u001b[0maxis\u001b[0m\u001b[0;34m.\u001b[0m\u001b[0mdrop\u001b[0m\u001b[0;34m(\u001b[0m\u001b[0mlabels\u001b[0m\u001b[0;34m,\u001b[0m \u001b[0mlevel\u001b[0m\u001b[0;34m=\u001b[0m\u001b[0mlevel\u001b[0m\u001b[0;34m,\u001b[0m \u001b[0merrors\u001b[0m\u001b[0;34m=\u001b[0m\u001b[0merrors\u001b[0m\u001b[0;34m)\u001b[0m\u001b[0;34m\u001b[0m\u001b[0;34m\u001b[0m\u001b[0m\n\u001b[1;32m   3945\u001b[0m             \u001b[0;32melse\u001b[0m\u001b[0;34m:\u001b[0m\u001b[0;34m\u001b[0m\u001b[0;34m\u001b[0m\u001b[0m\n\u001b[0;32m-> 3946\u001b[0;31m                 \u001b[0mnew_axis\u001b[0m \u001b[0;34m=\u001b[0m \u001b[0maxis\u001b[0m\u001b[0;34m.\u001b[0m\u001b[0mdrop\u001b[0m\u001b[0;34m(\u001b[0m\u001b[0mlabels\u001b[0m\u001b[0;34m,\u001b[0m \u001b[0merrors\u001b[0m\u001b[0;34m=\u001b[0m\u001b[0merrors\u001b[0m\u001b[0;34m)\u001b[0m\u001b[0;34m\u001b[0m\u001b[0;34m\u001b[0m\u001b[0m\n\u001b[0m\u001b[1;32m   3947\u001b[0m             \u001b[0mresult\u001b[0m \u001b[0;34m=\u001b[0m \u001b[0mself\u001b[0m\u001b[0;34m.\u001b[0m\u001b[0mreindex\u001b[0m\u001b[0;34m(\u001b[0m\u001b[0;34m**\u001b[0m\u001b[0;34m{\u001b[0m\u001b[0maxis_name\u001b[0m\u001b[0;34m:\u001b[0m \u001b[0mnew_axis\u001b[0m\u001b[0;34m}\u001b[0m\u001b[0;34m)\u001b[0m\u001b[0;34m\u001b[0m\u001b[0;34m\u001b[0m\u001b[0m\n\u001b[1;32m   3948\u001b[0m \u001b[0;34m\u001b[0m\u001b[0m\n",
      "\u001b[0;32m/opt/anaconda3/envs/learn-env/lib/python3.6/site-packages/pandas/core/indexes/base.py\u001b[0m in \u001b[0;36mdrop\u001b[0;34m(self, labels, errors)\u001b[0m\n\u001b[1;32m   5338\u001b[0m         \u001b[0;32mif\u001b[0m \u001b[0mmask\u001b[0m\u001b[0;34m.\u001b[0m\u001b[0many\u001b[0m\u001b[0;34m(\u001b[0m\u001b[0;34m)\u001b[0m\u001b[0;34m:\u001b[0m\u001b[0;34m\u001b[0m\u001b[0;34m\u001b[0m\u001b[0m\n\u001b[1;32m   5339\u001b[0m             \u001b[0;32mif\u001b[0m \u001b[0merrors\u001b[0m \u001b[0;34m!=\u001b[0m \u001b[0;34m\"ignore\"\u001b[0m\u001b[0;34m:\u001b[0m\u001b[0;34m\u001b[0m\u001b[0;34m\u001b[0m\u001b[0m\n\u001b[0;32m-> 5340\u001b[0;31m                 \u001b[0;32mraise\u001b[0m \u001b[0mKeyError\u001b[0m\u001b[0;34m(\u001b[0m\u001b[0;34m\"{} not found in axis\"\u001b[0m\u001b[0;34m.\u001b[0m\u001b[0mformat\u001b[0m\u001b[0;34m(\u001b[0m\u001b[0mlabels\u001b[0m\u001b[0;34m[\u001b[0m\u001b[0mmask\u001b[0m\u001b[0;34m]\u001b[0m\u001b[0;34m)\u001b[0m\u001b[0;34m)\u001b[0m\u001b[0;34m\u001b[0m\u001b[0;34m\u001b[0m\u001b[0m\n\u001b[0m\u001b[1;32m   5341\u001b[0m             \u001b[0mindexer\u001b[0m \u001b[0;34m=\u001b[0m \u001b[0mindexer\u001b[0m\u001b[0;34m[\u001b[0m\u001b[0;34m~\u001b[0m\u001b[0mmask\u001b[0m\u001b[0;34m]\u001b[0m\u001b[0;34m\u001b[0m\u001b[0;34m\u001b[0m\u001b[0m\n\u001b[1;32m   5342\u001b[0m         \u001b[0;32mreturn\u001b[0m \u001b[0mself\u001b[0m\u001b[0;34m.\u001b[0m\u001b[0mdelete\u001b[0m\u001b[0;34m(\u001b[0m\u001b[0mindexer\u001b[0m\u001b[0;34m)\u001b[0m\u001b[0;34m\u001b[0m\u001b[0;34m\u001b[0m\u001b[0m\n",
      "\u001b[0;31mKeyError\u001b[0m: \"['win_target' '3_win_target' '5_win_target' '7_win_target' '10_win_target'] not found in axis\""
     ]
    }
   ],
   "source": [
    "team_X = team.drop(target_cols,axis = 0)"
   ]
  },
  {
   "cell_type": "code",
   "execution_count": 333,
   "metadata": {
    "scrolled": true
   },
   "outputs": [
    {
     "data": {
      "text/html": [
       "<div>\n",
       "<style scoped>\n",
       "    .dataframe tbody tr th:only-of-type {\n",
       "        vertical-align: middle;\n",
       "    }\n",
       "\n",
       "    .dataframe tbody tr th {\n",
       "        vertical-align: top;\n",
       "    }\n",
       "\n",
       "    .dataframe thead th {\n",
       "        text-align: right;\n",
       "    }\n",
       "</style>\n",
       "<table border=\"1\" class=\"dataframe\">\n",
       "  <thead>\n",
       "    <tr style=\"text-align: right;\">\n",
       "      <th></th>\n",
       "      <th>PTS</th>\n",
       "      <th>FGM</th>\n",
       "      <th>FGA</th>\n",
       "      <th>FG%</th>\n",
       "      <th>3PM</th>\n",
       "      <th>3PA</th>\n",
       "      <th>3P%</th>\n",
       "      <th>FTM</th>\n",
       "      <th>FTA</th>\n",
       "      <th>FT%</th>\n",
       "      <th>OREB</th>\n",
       "      <th>DREB</th>\n",
       "      <th>REB</th>\n",
       "      <th>AST</th>\n",
       "      <th>TOV</th>\n",
       "      <th>STL</th>\n",
       "      <th>BLK</th>\n",
       "      <th>PF</th>\n",
       "      <th>Team1</th>\n",
       "      <th>Team2</th>\n",
       "    </tr>\n",
       "    <tr>\n",
       "      <th>Team</th>\n",
       "      <th></th>\n",
       "      <th></th>\n",
       "      <th></th>\n",
       "      <th></th>\n",
       "      <th></th>\n",
       "      <th></th>\n",
       "      <th></th>\n",
       "      <th></th>\n",
       "      <th></th>\n",
       "      <th></th>\n",
       "      <th></th>\n",
       "      <th></th>\n",
       "      <th></th>\n",
       "      <th></th>\n",
       "      <th></th>\n",
       "      <th></th>\n",
       "      <th></th>\n",
       "      <th></th>\n",
       "      <th></th>\n",
       "      <th></th>\n",
       "    </tr>\n",
       "  </thead>\n",
       "  <tbody>\n",
       "    <tr>\n",
       "      <td>0</td>\n",
       "      <td>109.480769</td>\n",
       "      <td>40.057692</td>\n",
       "      <td>89.692308</td>\n",
       "      <td>44.813462</td>\n",
       "      <td>11.500000</td>\n",
       "      <td>35.365385</td>\n",
       "      <td>32.480769</td>\n",
       "      <td>17.865385</td>\n",
       "      <td>22.942308</td>\n",
       "      <td>77.776923</td>\n",
       "      <td>9.615385</td>\n",
       "      <td>33.346154</td>\n",
       "      <td>42.961538</td>\n",
       "      <td>23.211538</td>\n",
       "      <td>16.711538</td>\n",
       "      <td>8.038462</td>\n",
       "      <td>5.134615</td>\n",
       "      <td>23.250000</td>\n",
       "      <td>0.0</td>\n",
       "      <td>14.403846</td>\n",
       "    </tr>\n",
       "    <tr>\n",
       "      <td>1</td>\n",
       "      <td>110.680000</td>\n",
       "      <td>40.220000</td>\n",
       "      <td>90.120000</td>\n",
       "      <td>44.716000</td>\n",
       "      <td>12.800000</td>\n",
       "      <td>37.320000</td>\n",
       "      <td>34.684000</td>\n",
       "      <td>17.440000</td>\n",
       "      <td>23.600000</td>\n",
       "      <td>74.426000</td>\n",
       "      <td>10.500000</td>\n",
       "      <td>37.600000</td>\n",
       "      <td>48.100000</td>\n",
       "      <td>23.980000</td>\n",
       "      <td>15.900000</td>\n",
       "      <td>6.740000</td>\n",
       "      <td>4.640000</td>\n",
       "      <td>20.720000</td>\n",
       "      <td>1.0</td>\n",
       "      <td>14.140000</td>\n",
       "    </tr>\n",
       "    <tr>\n",
       "      <td>2</td>\n",
       "      <td>112.740000</td>\n",
       "      <td>41.400000</td>\n",
       "      <td>89.140000</td>\n",
       "      <td>46.530000</td>\n",
       "      <td>12.100000</td>\n",
       "      <td>33.660000</td>\n",
       "      <td>36.160000</td>\n",
       "      <td>17.840000</td>\n",
       "      <td>22.240000</td>\n",
       "      <td>80.344000</td>\n",
       "      <td>10.500000</td>\n",
       "      <td>34.900000</td>\n",
       "      <td>45.400000</td>\n",
       "      <td>23.360000</td>\n",
       "      <td>13.820000</td>\n",
       "      <td>8.360000</td>\n",
       "      <td>5.760000</td>\n",
       "      <td>21.200000</td>\n",
       "      <td>2.0</td>\n",
       "      <td>14.320000</td>\n",
       "    </tr>\n",
       "    <tr>\n",
       "      <td>3</td>\n",
       "      <td>103.039216</td>\n",
       "      <td>37.392157</td>\n",
       "      <td>86.117647</td>\n",
       "      <td>43.464706</td>\n",
       "      <td>12.039216</td>\n",
       "      <td>34.470588</td>\n",
       "      <td>34.578431</td>\n",
       "      <td>16.215686</td>\n",
       "      <td>21.705882</td>\n",
       "      <td>74.784314</td>\n",
       "      <td>11.019608</td>\n",
       "      <td>31.725490</td>\n",
       "      <td>42.745098</td>\n",
       "      <td>24.078431</td>\n",
       "      <td>14.921569</td>\n",
       "      <td>6.490196</td>\n",
       "      <td>4.215686</td>\n",
       "      <td>19.411765</td>\n",
       "      <td>3.0</td>\n",
       "      <td>14.294118</td>\n",
       "    </tr>\n",
       "    <tr>\n",
       "      <td>4</td>\n",
       "      <td>106.150943</td>\n",
       "      <td>38.962264</td>\n",
       "      <td>88.377358</td>\n",
       "      <td>44.247170</td>\n",
       "      <td>12.132075</td>\n",
       "      <td>35.226415</td>\n",
       "      <td>34.513208</td>\n",
       "      <td>16.094340</td>\n",
       "      <td>21.094340</td>\n",
       "      <td>75.979245</td>\n",
       "      <td>10.188679</td>\n",
       "      <td>32.188679</td>\n",
       "      <td>42.377358</td>\n",
       "      <td>23.094340</td>\n",
       "      <td>15.245283</td>\n",
       "      <td>9.962264</td>\n",
       "      <td>4.000000</td>\n",
       "      <td>21.264151</td>\n",
       "      <td>4.0</td>\n",
       "      <td>13.603774</td>\n",
       "    </tr>\n",
       "  </tbody>\n",
       "</table>\n",
       "</div>"
      ],
      "text/plain": [
       "             PTS        FGM        FGA        FG%        3PM        3PA  \\\n",
       "Team                                                                      \n",
       "0     109.480769  40.057692  89.692308  44.813462  11.500000  35.365385   \n",
       "1     110.680000  40.220000  90.120000  44.716000  12.800000  37.320000   \n",
       "2     112.740000  41.400000  89.140000  46.530000  12.100000  33.660000   \n",
       "3     103.039216  37.392157  86.117647  43.464706  12.039216  34.470588   \n",
       "4     106.150943  38.962264  88.377358  44.247170  12.132075  35.226415   \n",
       "\n",
       "            3P%        FTM        FTA        FT%       OREB       DREB  \\\n",
       "Team                                                                     \n",
       "0     32.480769  17.865385  22.942308  77.776923   9.615385  33.346154   \n",
       "1     34.684000  17.440000  23.600000  74.426000  10.500000  37.600000   \n",
       "2     36.160000  17.840000  22.240000  80.344000  10.500000  34.900000   \n",
       "3     34.578431  16.215686  21.705882  74.784314  11.019608  31.725490   \n",
       "4     34.513208  16.094340  21.094340  75.979245  10.188679  32.188679   \n",
       "\n",
       "            REB        AST        TOV       STL       BLK         PF  Team1  \\\n",
       "Team                                                                          \n",
       "0     42.961538  23.211538  16.711538  8.038462  5.134615  23.250000    0.0   \n",
       "1     48.100000  23.980000  15.900000  6.740000  4.640000  20.720000    1.0   \n",
       "2     45.400000  23.360000  13.820000  8.360000  5.760000  21.200000    2.0   \n",
       "3     42.745098  24.078431  14.921569  6.490196  4.215686  19.411765    3.0   \n",
       "4     42.377358  23.094340  15.245283  9.962264  4.000000  21.264151    4.0   \n",
       "\n",
       "          Team2  \n",
       "Team             \n",
       "0     14.403846  \n",
       "1     14.140000  \n",
       "2     14.320000  \n",
       "3     14.294118  \n",
       "4     13.603774  "
      ]
     },
     "execution_count": 333,
     "metadata": {},
     "output_type": "execute_result"
    }
   ],
   "source": [
    "team_X.head()"
   ]
  },
  {
   "cell_type": "code",
   "execution_count": 206,
   "metadata": {
    "scrolled": true
   },
   "outputs": [
    {
     "data": {
      "text/plain": [
       "PTS      109.480769\n",
       "FGM       40.057692\n",
       "FGA       89.692308\n",
       "FG%       44.813462\n",
       "3PM       11.500000\n",
       "3PA       35.365385\n",
       "3P%       32.480769\n",
       "FTM       17.865385\n",
       "FTA       22.942308\n",
       "FT%       77.776923\n",
       "OREB       9.615385\n",
       "DREB      33.346154\n",
       "REB       42.961538\n",
       "AST       23.211538\n",
       "TOV       16.711538\n",
       "STL        8.038462\n",
       "BLK        5.134615\n",
       "PF        23.250000\n",
       "Team1      0.000000\n",
       "Team2     14.403846\n",
       "Name: 0, dtype: float64"
      ]
     },
     "execution_count": 206,
     "metadata": {},
     "output_type": "execute_result"
    }
   ],
   "source": [
    "team_X.loc[0]"
   ]
  },
  {
   "cell_type": "code",
   "execution_count": 311,
   "metadata": {},
   "outputs": [],
   "source": [
    "rox = pd.DataFrame(team_X.loc[10])"
   ]
  },
  {
   "cell_type": "code",
   "execution_count": 312,
   "metadata": {},
   "outputs": [],
   "source": [
    "rox.loc['Team2'] = 6"
   ]
  },
  {
   "cell_type": "code",
   "execution_count": 313,
   "metadata": {},
   "outputs": [
    {
     "data": {
      "text/plain": [
       "[10]"
      ]
     },
     "execution_count": 313,
     "metadata": {},
     "output_type": "execute_result"
    }
   ],
   "source": [
    "rox.columns.tolist()"
   ]
  },
  {
   "cell_type": "code",
   "execution_count": 315,
   "metadata": {},
   "outputs": [
    {
     "data": {
      "text/html": [
       "<div>\n",
       "<style scoped>\n",
       "    .dataframe tbody tr th:only-of-type {\n",
       "        vertical-align: middle;\n",
       "    }\n",
       "\n",
       "    .dataframe tbody tr th {\n",
       "        vertical-align: top;\n",
       "    }\n",
       "\n",
       "    .dataframe thead th {\n",
       "        text-align: right;\n",
       "    }\n",
       "</style>\n",
       "<table border=\"1\" class=\"dataframe\">\n",
       "  <thead>\n",
       "    <tr style=\"text-align: right;\">\n",
       "      <th></th>\n",
       "      <th>10</th>\n",
       "    </tr>\n",
       "  </thead>\n",
       "  <tbody>\n",
       "    <tr>\n",
       "      <td>PTS</td>\n",
       "      <td>118.843137</td>\n",
       "    </tr>\n",
       "    <tr>\n",
       "      <td>FGM</td>\n",
       "      <td>41.392157</td>\n",
       "    </tr>\n",
       "    <tr>\n",
       "      <td>FGA</td>\n",
       "      <td>91.313725</td>\n",
       "    </tr>\n",
       "    <tr>\n",
       "      <td>FG%</td>\n",
       "      <td>45.450980</td>\n",
       "    </tr>\n",
       "    <tr>\n",
       "      <td>3PM</td>\n",
       "      <td>15.333333</td>\n",
       "    </tr>\n",
       "    <tr>\n",
       "      <td>3PA</td>\n",
       "      <td>43.803922</td>\n",
       "    </tr>\n",
       "    <tr>\n",
       "      <td>3P%</td>\n",
       "      <td>35.162745</td>\n",
       "    </tr>\n",
       "    <tr>\n",
       "      <td>FTM</td>\n",
       "      <td>20.725490</td>\n",
       "    </tr>\n",
       "    <tr>\n",
       "      <td>FTA</td>\n",
       "      <td>26.431373</td>\n",
       "    </tr>\n",
       "    <tr>\n",
       "      <td>FT%</td>\n",
       "      <td>78.874510</td>\n",
       "    </tr>\n",
       "    <tr>\n",
       "      <td>OREB</td>\n",
       "      <td>10.803922</td>\n",
       "    </tr>\n",
       "    <tr>\n",
       "      <td>DREB</td>\n",
       "      <td>35.352941</td>\n",
       "    </tr>\n",
       "    <tr>\n",
       "      <td>REB</td>\n",
       "      <td>46.156863</td>\n",
       "    </tr>\n",
       "    <tr>\n",
       "      <td>AST</td>\n",
       "      <td>21.588235</td>\n",
       "    </tr>\n",
       "    <tr>\n",
       "      <td>TOV</td>\n",
       "      <td>14.647059</td>\n",
       "    </tr>\n",
       "    <tr>\n",
       "      <td>STL</td>\n",
       "      <td>8.176471</td>\n",
       "    </tr>\n",
       "    <tr>\n",
       "      <td>BLK</td>\n",
       "      <td>5.000000</td>\n",
       "    </tr>\n",
       "    <tr>\n",
       "      <td>PF</td>\n",
       "      <td>21.588235</td>\n",
       "    </tr>\n",
       "    <tr>\n",
       "      <td>Team1</td>\n",
       "      <td>10.000000</td>\n",
       "    </tr>\n",
       "    <tr>\n",
       "      <td>Team2</td>\n",
       "      <td>6.000000</td>\n",
       "    </tr>\n",
       "  </tbody>\n",
       "</table>\n",
       "</div>"
      ],
      "text/plain": [
       "               10\n",
       "PTS    118.843137\n",
       "FGM     41.392157\n",
       "FGA     91.313725\n",
       "FG%     45.450980\n",
       "3PM     15.333333\n",
       "3PA     43.803922\n",
       "3P%     35.162745\n",
       "FTM     20.725490\n",
       "FTA     26.431373\n",
       "FT%     78.874510\n",
       "OREB    10.803922\n",
       "DREB    35.352941\n",
       "REB     46.156863\n",
       "AST     21.588235\n",
       "TOV     14.647059\n",
       "STL      8.176471\n",
       "BLK      5.000000\n",
       "PF      21.588235\n",
       "Team1   10.000000\n",
       "Team2    6.000000"
      ]
     },
     "execution_count": 315,
     "metadata": {},
     "output_type": "execute_result"
    }
   ],
   "source": [
    "rox"
   ]
  },
  {
   "cell_type": "code",
   "execution_count": 319,
   "metadata": {},
   "outputs": [],
   "source": [
    "rox = rox.T"
   ]
  },
  {
   "cell_type": "code",
   "execution_count": 340,
   "metadata": {},
   "outputs": [],
   "source": [
    "rox['Team'] = 19"
   ]
  },
  {
   "cell_type": "code",
   "execution_count": 341,
   "metadata": {},
   "outputs": [
    {
     "data": {
      "text/plain": [
       "Index(['PTS', 'FGM', 'FGA', 'FG%', '3PM', '3PA', '3P%', 'FTM', 'FTA', 'FT%',\n",
       "       'OREB', 'DREB', 'REB', 'AST', 'TOV', 'STL', 'BLK', 'PF', 'Team1',\n",
       "       'Team2', 'Team'],\n",
       "      dtype='object')"
      ]
     },
     "execution_count": 341,
     "metadata": {},
     "output_type": "execute_result"
    }
   ],
   "source": [
    "rox.columns"
   ]
  },
  {
   "cell_type": "code",
   "execution_count": 342,
   "metadata": {},
   "outputs": [
    {
     "data": {
      "text/html": [
       "<div>\n",
       "<style scoped>\n",
       "    .dataframe tbody tr th:only-of-type {\n",
       "        vertical-align: middle;\n",
       "    }\n",
       "\n",
       "    .dataframe tbody tr th {\n",
       "        vertical-align: top;\n",
       "    }\n",
       "\n",
       "    .dataframe thead th {\n",
       "        text-align: right;\n",
       "    }\n",
       "</style>\n",
       "<table border=\"1\" class=\"dataframe\">\n",
       "  <thead>\n",
       "    <tr style=\"text-align: right;\">\n",
       "      <th></th>\n",
       "      <th>PTS</th>\n",
       "      <th>FGM</th>\n",
       "      <th>FGA</th>\n",
       "      <th>FG%</th>\n",
       "      <th>3PM</th>\n",
       "      <th>3PA</th>\n",
       "      <th>3P%</th>\n",
       "      <th>FTM</th>\n",
       "      <th>FTA</th>\n",
       "      <th>FT%</th>\n",
       "      <th>...</th>\n",
       "      <th>DREB</th>\n",
       "      <th>REB</th>\n",
       "      <th>AST</th>\n",
       "      <th>TOV</th>\n",
       "      <th>STL</th>\n",
       "      <th>BLK</th>\n",
       "      <th>PF</th>\n",
       "      <th>Team1</th>\n",
       "      <th>Team2</th>\n",
       "      <th>Team</th>\n",
       "    </tr>\n",
       "  </thead>\n",
       "  <tbody>\n",
       "    <tr>\n",
       "      <td>10</td>\n",
       "      <td>118.843137</td>\n",
       "      <td>41.392157</td>\n",
       "      <td>91.313725</td>\n",
       "      <td>45.45098</td>\n",
       "      <td>15.333333</td>\n",
       "      <td>43.803922</td>\n",
       "      <td>35.162745</td>\n",
       "      <td>20.72549</td>\n",
       "      <td>26.431373</td>\n",
       "      <td>78.87451</td>\n",
       "      <td>...</td>\n",
       "      <td>35.352941</td>\n",
       "      <td>46.156863</td>\n",
       "      <td>21.588235</td>\n",
       "      <td>14.647059</td>\n",
       "      <td>8.176471</td>\n",
       "      <td>5.0</td>\n",
       "      <td>21.588235</td>\n",
       "      <td>10.0</td>\n",
       "      <td>6.0</td>\n",
       "      <td>19</td>\n",
       "    </tr>\n",
       "  </tbody>\n",
       "</table>\n",
       "<p>1 rows × 21 columns</p>\n",
       "</div>"
      ],
      "text/plain": [
       "           PTS        FGM        FGA       FG%        3PM        3PA  \\\n",
       "10  118.843137  41.392157  91.313725  45.45098  15.333333  43.803922   \n",
       "\n",
       "          3P%       FTM        FTA       FT%  ...       DREB        REB  \\\n",
       "10  35.162745  20.72549  26.431373  78.87451  ...  35.352941  46.156863   \n",
       "\n",
       "          AST        TOV       STL  BLK         PF  Team1  Team2  Team  \n",
       "10  21.588235  14.647059  8.176471  5.0  21.588235   10.0    6.0    19  \n",
       "\n",
       "[1 rows x 21 columns]"
      ]
     },
     "execution_count": 342,
     "metadata": {},
     "output_type": "execute_result"
    }
   ],
   "source": [
    "rox"
   ]
  },
  {
   "cell_type": "code",
   "execution_count": 343,
   "metadata": {},
   "outputs": [],
   "source": [
    "y_predrox = model_10.predict(rox)"
   ]
  },
  {
   "cell_type": "code",
   "execution_count": 344,
   "metadata": {},
   "outputs": [
    {
     "data": {
      "text/plain": [
       "array([ True])"
      ]
     },
     "execution_count": 344,
     "metadata": {},
     "output_type": "execute_result"
    }
   ],
   "source": [
    "y_predrox"
   ]
  },
  {
   "cell_type": "code",
   "execution_count": 297,
   "metadata": {},
   "outputs": [],
   "source": [
    "def winner(df,team1,team2,model):\n",
    "    global team_dict\n",
    "    \n",
    "    team = df.groupby(['Team']).mean()\n",
    "    team_X = df.drop(target_cols,axis = 1)\n",
    "    first_team = pd.DataFrame(team_X.loc[team_dict[team1]]).T\n",
    "    second_team = team_X.loc[team_dict[team2]]['Team']\n",
    "    first_team['Team2'] = second_team\n",
    "    \n",
    "    print(first_team)\n",
    "    y_pred = model.predict(first_team)[0]\n",
    "    \n",
    "    return y_pred"
   ]
  },
  {
   "cell_type": "code",
   "execution_count": 298,
   "metadata": {},
   "outputs": [
    {
     "name": "stdout",
     "output_type": "stream",
     "text": [
      "    Team    PTS   FGM   FGA   FG%  3PM   3PA   3P%   FTM   FTA  ...  OREB  \\\n",
      "10  23.0  110.0  40.0  87.0  46.0  4.0  20.0  20.0  26.0  32.0  ...  10.0   \n",
      "\n",
      "    DREB   REB   AST   TOV  STL  BLK    PF  Team1  Team2  \n",
      "10  30.0  40.0  20.0  12.0  9.0  6.0  19.0   23.0   21.0  \n",
      "\n",
      "[1 rows x 21 columns]\n"
     ]
    },
    {
     "data": {
      "text/plain": [
       "True"
      ]
     },
     "execution_count": 298,
     "metadata": {},
     "output_type": "execute_result"
    }
   ],
   "source": [
    "winner(df, 'HOU', 'DAL', model_10)"
   ]
  },
  {
   "cell_type": "code",
   "execution_count": 244,
   "metadata": {},
   "outputs": [
    {
     "data": {
      "text/plain": [
       "{'ATL': 0,\n",
       " 'BKN': 1,\n",
       " 'BOS': 2,\n",
       " 'CHA': 3,\n",
       " 'CHI': 4,\n",
       " 'CLE': 5,\n",
       " 'DAL': 6,\n",
       " 'DEN': 7,\n",
       " 'DET': 8,\n",
       " 'GSW': 9,\n",
       " 'HOU': 10,\n",
       " 'IND': 11,\n",
       " 'LAC': 12,\n",
       " 'LAL': 13,\n",
       " 'MEM': 14,\n",
       " 'MIA': 15,\n",
       " 'MIL': 16,\n",
       " 'MIN': 17,\n",
       " 'NOP': 18,\n",
       " 'NYK': 19,\n",
       " 'OKC': 20,\n",
       " 'ORL': 21,\n",
       " 'PHI': 22,\n",
       " 'PHX': 23,\n",
       " 'POR': 24,\n",
       " 'SAC': 25,\n",
       " 'SAS': 26,\n",
       " 'TOR': 27,\n",
       " 'UTA': 28,\n",
       " 'WAS': 29}"
      ]
     },
     "execution_count": 244,
     "metadata": {},
     "output_type": "execute_result"
    }
   ],
   "source": [
    "team_dict"
   ]
  },
  {
   "cell_type": "code",
   "execution_count": null,
   "metadata": {},
   "outputs": [],
   "source": []
  }
 ],
 "metadata": {
  "kernelspec": {
   "display_name": "Python [conda env:learn-env] *",
   "language": "python",
   "name": "conda-env-learn-env-py"
  },
  "language_info": {
   "codemirror_mode": {
    "name": "ipython",
    "version": 3
   },
   "file_extension": ".py",
   "mimetype": "text/x-python",
   "name": "python",
   "nbconvert_exporter": "python",
   "pygments_lexer": "ipython3",
   "version": "3.6.9"
  }
 },
 "nbformat": 4,
 "nbformat_minor": 2
}
