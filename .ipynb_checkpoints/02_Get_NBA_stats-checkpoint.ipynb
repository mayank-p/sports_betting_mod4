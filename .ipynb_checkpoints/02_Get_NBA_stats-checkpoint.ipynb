{
 "cells": [
  {
   "cell_type": "code",
   "execution_count": 1,
   "metadata": {},
   "outputs": [],
   "source": [
    "import requests\n",
    "from bs4 import BeautifulSoup\n",
    "import pandas as pd\n",
    "import time"
   ]
  },
  {
   "cell_type": "code",
   "execution_count": 2,
   "metadata": {},
   "outputs": [],
   "source": [
    "from selenium import webdriver\n",
    "from selenium.webdriver.chrome.options import Options "
   ]
  },
  {
   "cell_type": "code",
   "execution_count": 3,
   "metadata": {},
   "outputs": [],
   "source": [
    "chrome_path = '/Users/MayankPhanse/Desktop/chromedriver'"
   ]
  },
  {
   "cell_type": "code",
   "execution_count": 14,
   "metadata": {},
   "outputs": [],
   "source": [
    "options = Options() "
   ]
  },
  {
   "cell_type": "code",
   "execution_count": 15,
   "metadata": {},
   "outputs": [],
   "source": [
    "# set the window size\n",
    "options.add_argument('--window-size=500,300')\n",
    "\n",
    "# initialize the driver\n",
    "driver = webdriver.Chrome(chrome_path, \n",
    "                          options=options)"
   ]
  },
  {
   "cell_type": "code",
   "execution_count": 16,
   "metadata": {},
   "outputs": [],
   "source": [
    "driver.set_window_size(1400,1000)"
   ]
  },
  {
   "cell_type": "code",
   "execution_count": 17,
   "metadata": {},
   "outputs": [],
   "source": [
    "driver.get('https://stats.nba.com/teams/boxscores-traditional/?Season=2019-20&SeasonType=Regular%20Season')"
   ]
  },
  {
   "cell_type": "markdown",
   "metadata": {},
   "source": [
    "## Get First Half Stats"
   ]
  },
  {
   "cell_type": "code",
   "execution_count": 32,
   "metadata": {},
   "outputs": [],
   "source": [
    "def get_first_half_stats():\n",
    "    driver.get('https://stats.nba.com/teams/boxscores-traditional/?Season=2019-20&SeasonType=Regular%20Season')\n",
    "    #clicks advanced filters\n",
    "    driver.find_element_by_xpath('/html/body/main/div[2]/div/div[2]/div/div/div[1]/div[4]/a').click()\n",
    "    time.sleep(1)\n",
    "    #clicks first half\n",
    "    driver.find_element_by_xpath('/html/body/main/div[2]/div/div[2]/div/div/div[2]/div[1]/div[2]/div[5]/div/label/select/option[2]').click()\n",
    "    time.sleep(1)\n",
    "    #clicks run it\n",
    "    driver.find_element_by_xpath('/html/body/main/div[2]/div/div[2]/div/div/div[2]/div[2]/stats-run-it/a').click()\n",
    "    time.sleep(1)\n",
    "    #clicks all\n",
    "    driver.find_element_by_xpath('/html/body/main/div[2]/div/div[2]/div/div/nba-stat-table/div[1]/div/div/select/option[1]').click()\n",
    "    \n",
    "    page_source = driver.page_source\n",
    "    soup = BeautifulSoup(page_source)\n",
    "    tables = soup.findAll('table')\n",
    "    table = tables[0].prettify()\n",
    "    first_half = pd.read_html(table)[0]\n",
    "\n",
    "#     first_half.to_csv('first_half.csv')\n",
    "    return first_half"
   ]
  },
  {
   "cell_type": "code",
   "execution_count": 33,
   "metadata": {},
   "outputs": [],
   "source": [
    "get_first_half_stats().to_csv('first_half_test.csv')"
   ]
  },
  {
   "cell_type": "markdown",
   "metadata": {},
   "source": [
    "## Get Second Half Stats"
   ]
  },
  {
   "cell_type": "code",
   "execution_count": 42,
   "metadata": {},
   "outputs": [],
   "source": [
    "def get_second_half_stats():\n",
    "    driver.get('https://stats.nba.com/teams/boxscores-traditional/?Season=2019-20&SeasonType=Regular%20Season')\n",
    "    #clicks advanced filters\n",
    "    driver.find_element_by_xpath('/html/body/main/div[2]/div/div[2]/div/div/div[1]/div[4]/a').click()\n",
    "    time.sleep(1)\n",
    "    #clicks second half\n",
    "    driver.find_element_by_xpath('/html/body/main/div[2]/div/div[2]/div/div/div[2]/div[1]/div[2]/div[5]/div/label/select/option[3]').click()\n",
    "    time.sleep(1)\n",
    "    #clicks run it\n",
    "    driver.find_element_by_xpath('/html/body/main/div[2]/div/div[2]/div/div/div[2]/div[2]/stats-run-it/a').click()\n",
    "    time.sleep(1)\n",
    "    #clicks all\n",
    "    driver.find_element_by_xpath('/html/body/main/div[2]/div/div[2]/div/div/nba-stat-table/div[1]/div/div/select/option[1]').click()\n",
    "    \n",
    "    page_source = driver.page_source\n",
    "    soup = BeautifulSoup(page_source)\n",
    "    tables = soup.findAll('table')\n",
    "    table = tables[0].prettify()\n",
    "    second_half = pd.read_html(table)[0]\n",
    "\n",
    "    second_half.to_csv('second_half.csv')"
   ]
  },
  {
   "cell_type": "code",
   "execution_count": 43,
   "metadata": {},
   "outputs": [],
   "source": [
    "get_second_half_stats()"
   ]
  },
  {
   "cell_type": "code",
   "execution_count": 56,
   "metadata": {},
   "outputs": [],
   "source": [
    "def get_game_stats():\n",
    "    driver.set_window_size(1400,1000)\n",
    "    \n",
    "    driver.get('https://stats.nba.com/teams/boxscores-traditional/?Season=2019-20&SeasonType=Regular%20Season')\n",
    "    \n",
    "    #clicks all\n",
    "    driver.find_element_by_xpath('/html/body/main/div[2]/div/div[2]/div/div/nba-stat-table/div[1]/div/div/select/option[1]').click()\n",
    "    \n",
    "    page_source = driver.page_source\n",
    "    soup = BeautifulSoup(page_source)\n",
    "    tables = soup.findAll('table')\n",
    "    table = tables[0].prettify()\n",
    "    entire_game = pd.read_html(table)[0]\n",
    "\n",
    "    entire_game.to_csv('nba_games.csv')"
   ]
  },
  {
   "cell_type": "code",
   "execution_count": null,
   "metadata": {},
   "outputs": [],
   "source": [
    "get_game_stats()"
   ]
  },
  {
   "cell_type": "markdown",
   "metadata": {},
   "source": [
    "**If the paths don't work, just copy and paste the exact links over the previous links and then run**"
   ]
  },
  {
   "cell_type": "code",
   "execution_count": 11,
   "metadata": {},
   "outputs": [],
   "source": [
    "\n",
    "page_source = driver.page_source\n",
    "soup = BeautifulSoup(page_source)\n",
    "tables = soup.findAll('table')\n",
    "table = tables[0].prettify()\n",
    "entire_game = pd.read_html(table)[0]"
   ]
  },
  {
   "cell_type": "code",
   "execution_count": 12,
   "metadata": {},
   "outputs": [],
   "source": [
    "df.to_csv('nba_games.csv')"
   ]
  }
 ],
 "metadata": {
  "kernelspec": {
   "display_name": "Python 3",
   "language": "python",
   "name": "python3"
  },
  "language_info": {
   "codemirror_mode": {
    "name": "ipython",
    "version": 3
   },
   "file_extension": ".py",
   "mimetype": "text/x-python",
   "name": "python",
   "nbconvert_exporter": "python",
   "pygments_lexer": "ipython3",
   "version": "3.6.9"
  }
 },
 "nbformat": 4,
 "nbformat_minor": 4
}
