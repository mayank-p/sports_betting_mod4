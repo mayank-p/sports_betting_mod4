{
 "cells": [
  {
   "cell_type": "code",
   "execution_count": 40,
   "metadata": {},
   "outputs": [],
   "source": [
    "import numpy as np # linear algebra\n",
    "import pandas as pd # data processing, CSV file I/O (e.g. pd.read_csv)\n",
    "        \n",
    "import matplotlib.pyplot as plt\n",
    "from matplotlib import cm\n",
    "import seaborn as sns; sns.set()\n",
    "%matplotlib inline\n",
    "\n",
    "\n",
    "from sklearn.tree import DecisionTreeClassifier\n",
    "\n",
    "\n",
    "from imblearn.pipeline import make_pipeline, Pipeline\n",
    "from imblearn.over_sampling import SMOTE\n",
    "\n",
    "from mlxtend.plotting import plot_decision_regions\n",
    "from sklearn.svm import SVC\n",
    "from sklearn.linear_model import LogisticRegression\n",
    "from sklearn.preprocessing import KBinsDiscretizer, FunctionTransformer\n",
    "from sklearn.model_selection import cross_val_score\n",
    "from sklearn.preprocessing import MinMaxScaler\n",
    "from category_encoders import WOEEncoder\n",
    "from sklearn.pipeline import make_pipeline, Pipeline\n",
    "from sklearn.metrics import classification_report, confusion_matrix, accuracy_score, balanced_accuracy_score, roc_auc_score\n",
    "from sklearn.ensemble import RandomForestClassifier, ExtraTreesClassifier\n",
    "\n",
    "\n",
    "from sklearn.datasets import make_classification\n",
    "from sklearn.model_selection import train_test_split, GridSearchCV\n",
    "from sklearn.pipeline import Pipeline\n",
    "from sklearn.svm import LinearSVC\n",
    "from sklearn.preprocessing import MinMaxScaler, KBinsDiscretizer, FunctionTransformer\n",
    "from category_encoders import OneHotEncoder\n",
    "\n",
    "from mlxtend.evaluate import feature_importance_permutation\n",
    "from sklearn.model_selection import train_test_split\n",
    "\n",
    "from mlxtend.feature_extraction import PrincipalComponentAnalysis\n",
    "from mlxtend.preprocessing import standardize\n",
    "\n",
    "from mlxtend.plotting import plot_pca_correlation_graph\n",
    "\n",
    "\n",
    "from mlxtend.plotting import plot_decision_regions\n",
    "from sklearn.tree import DecisionTreeClassifier\n",
    "from sklearn.ensemble import RandomForestClassifier, ExtraTreesClassifier\n",
    "from sklearn.linear_model import LogisticRegression\n",
    "from sklearn.preprocessing import KBinsDiscretizer, FunctionTransformer\n",
    "from sklearn.model_selection import cross_val_score\n",
    "\n",
    "from sklearn.pipeline import make_pipeline, Pipeline\n",
    "\n",
    "import joypy\n",
    "\n",
    "from mlxtend.evaluate import feature_importance_permutation\n",
    "from lofo import LOFOImportance, Dataset, plot_importance\n",
    "from sklearn.model_selection import train_test_split, StratifiedKFold\n",
    "\n",
    "\n",
    "import warnings\n",
    "warnings.filterwarnings(\"ignore\")\n",
    "# Any results you write to the current directory are saved as output."
   ]
  },
  {
   "cell_type": "code",
   "execution_count": 163,
   "metadata": {},
   "outputs": [],
   "source": [
    "import pickle\n",
    "import joblib"
   ]
  },
  {
   "cell_type": "code",
   "execution_count": 149,
   "metadata": {},
   "outputs": [],
   "source": [
    "df = pd.read_csv('halftime_df.csv')\n",
    "df.drop(['Unnamed: 0'],axis = 1, inplace=True)\n",
    "labels = df.columns\n"
   ]
  },
  {
   "cell_type": "code",
   "execution_count": 3,
   "metadata": {},
   "outputs": [
    {
     "data": {
      "text/html": [
       "<div>\n",
       "<style scoped>\n",
       "    .dataframe tbody tr th:only-of-type {\n",
       "        vertical-align: middle;\n",
       "    }\n",
       "\n",
       "    .dataframe tbody tr th {\n",
       "        vertical-align: top;\n",
       "    }\n",
       "\n",
       "    .dataframe thead th {\n",
       "        text-align: right;\n",
       "    }\n",
       "</style>\n",
       "<table border=\"1\" class=\"dataframe\">\n",
       "  <thead>\n",
       "    <tr style=\"text-align: right;\">\n",
       "      <th></th>\n",
       "      <th>Team</th>\n",
       "      <th>PTS</th>\n",
       "      <th>FGM</th>\n",
       "      <th>FGA</th>\n",
       "      <th>FG%</th>\n",
       "      <th>3PM</th>\n",
       "      <th>3PA</th>\n",
       "      <th>3P%</th>\n",
       "      <th>FTM</th>\n",
       "      <th>FTA</th>\n",
       "      <th>...</th>\n",
       "      <th>TOV</th>\n",
       "      <th>STL</th>\n",
       "      <th>BLK</th>\n",
       "      <th>PF</th>\n",
       "      <th>+/-</th>\n",
       "      <th>win_target</th>\n",
       "      <th>3_win_target</th>\n",
       "      <th>5_win_target</th>\n",
       "      <th>7_win_target</th>\n",
       "      <th>10_win_target</th>\n",
       "    </tr>\n",
       "  </thead>\n",
       "  <tbody>\n",
       "    <tr>\n",
       "      <td>0</td>\n",
       "      <td>LAL</td>\n",
       "      <td>74</td>\n",
       "      <td>31</td>\n",
       "      <td>51</td>\n",
       "      <td>60.8</td>\n",
       "      <td>6</td>\n",
       "      <td>15</td>\n",
       "      <td>40.0</td>\n",
       "      <td>6</td>\n",
       "      <td>10</td>\n",
       "      <td>...</td>\n",
       "      <td>6</td>\n",
       "      <td>8</td>\n",
       "      <td>4</td>\n",
       "      <td>9</td>\n",
       "      <td>33</td>\n",
       "      <td>True</td>\n",
       "      <td>True</td>\n",
       "      <td>True</td>\n",
       "      <td>True</td>\n",
       "      <td>False</td>\n",
       "    </tr>\n",
       "    <tr>\n",
       "      <td>1</td>\n",
       "      <td>MIL</td>\n",
       "      <td>52</td>\n",
       "      <td>20</td>\n",
       "      <td>48</td>\n",
       "      <td>41.7</td>\n",
       "      <td>3</td>\n",
       "      <td>14</td>\n",
       "      <td>21.4</td>\n",
       "      <td>9</td>\n",
       "      <td>13</td>\n",
       "      <td>...</td>\n",
       "      <td>6</td>\n",
       "      <td>3</td>\n",
       "      <td>7</td>\n",
       "      <td>9</td>\n",
       "      <td>1</td>\n",
       "      <td>True</td>\n",
       "      <td>False</td>\n",
       "      <td>False</td>\n",
       "      <td>False</td>\n",
       "      <td>False</td>\n",
       "    </tr>\n",
       "    <tr>\n",
       "      <td>2</td>\n",
       "      <td>MIN</td>\n",
       "      <td>51</td>\n",
       "      <td>16</td>\n",
       "      <td>47</td>\n",
       "      <td>34.0</td>\n",
       "      <td>8</td>\n",
       "      <td>26</td>\n",
       "      <td>30.8</td>\n",
       "      <td>11</td>\n",
       "      <td>13</td>\n",
       "      <td>...</td>\n",
       "      <td>8</td>\n",
       "      <td>3</td>\n",
       "      <td>6</td>\n",
       "      <td>12</td>\n",
       "      <td>-1</td>\n",
       "      <td>False</td>\n",
       "      <td>False</td>\n",
       "      <td>False</td>\n",
       "      <td>False</td>\n",
       "      <td>False</td>\n",
       "    </tr>\n",
       "    <tr>\n",
       "      <td>3</td>\n",
       "      <td>NYK</td>\n",
       "      <td>51</td>\n",
       "      <td>22</td>\n",
       "      <td>51</td>\n",
       "      <td>43.1</td>\n",
       "      <td>4</td>\n",
       "      <td>14</td>\n",
       "      <td>28.6</td>\n",
       "      <td>3</td>\n",
       "      <td>6</td>\n",
       "      <td>...</td>\n",
       "      <td>5</td>\n",
       "      <td>0</td>\n",
       "      <td>4</td>\n",
       "      <td>12</td>\n",
       "      <td>3</td>\n",
       "      <td>True</td>\n",
       "      <td>True</td>\n",
       "      <td>True</td>\n",
       "      <td>True</td>\n",
       "      <td>True</td>\n",
       "    </tr>\n",
       "    <tr>\n",
       "      <td>4</td>\n",
       "      <td>ORL</td>\n",
       "      <td>62</td>\n",
       "      <td>23</td>\n",
       "      <td>51</td>\n",
       "      <td>45.1</td>\n",
       "      <td>8</td>\n",
       "      <td>18</td>\n",
       "      <td>44.4</td>\n",
       "      <td>8</td>\n",
       "      <td>8</td>\n",
       "      <td>...</td>\n",
       "      <td>4</td>\n",
       "      <td>7</td>\n",
       "      <td>3</td>\n",
       "      <td>11</td>\n",
       "      <td>4</td>\n",
       "      <td>True</td>\n",
       "      <td>True</td>\n",
       "      <td>True</td>\n",
       "      <td>True</td>\n",
       "      <td>True</td>\n",
       "    </tr>\n",
       "  </tbody>\n",
       "</table>\n",
       "<p>5 rows × 25 columns</p>\n",
       "</div>"
      ],
      "text/plain": [
       "  Team  PTS  FGM  FGA   FG%  3PM  3PA   3P%  FTM  FTA  ...  TOV  STL  BLK  PF  \\\n",
       "0  LAL   74   31   51  60.8    6   15  40.0    6   10  ...    6    8    4   9   \n",
       "1  MIL   52   20   48  41.7    3   14  21.4    9   13  ...    6    3    7   9   \n",
       "2  MIN   51   16   47  34.0    8   26  30.8   11   13  ...    8    3    6  12   \n",
       "3  NYK   51   22   51  43.1    4   14  28.6    3    6  ...    5    0    4  12   \n",
       "4  ORL   62   23   51  45.1    8   18  44.4    8    8  ...    4    7    3  11   \n",
       "\n",
       "   +/-  win_target  3_win_target  5_win_target  7_win_target  10_win_target  \n",
       "0   33        True          True          True          True          False  \n",
       "1    1        True         False         False         False          False  \n",
       "2   -1       False         False         False         False          False  \n",
       "3    3        True          True          True          True           True  \n",
       "4    4        True          True          True          True           True  \n",
       "\n",
       "[5 rows x 25 columns]"
      ]
     },
     "execution_count": 3,
     "metadata": {},
     "output_type": "execute_result"
    }
   ],
   "source": [
    "df.head()"
   ]
  },
  {
   "cell_type": "markdown",
   "metadata": {},
   "source": [
    "### Set Up Spread Targets"
   ]
  },
  {
   "cell_type": "code",
   "execution_count": 4,
   "metadata": {},
   "outputs": [],
   "source": [
    "win = 'win_target'\n",
    "ptwin3 = '3_win_target'\n",
    "ptwin5 = '5_win_target'\n",
    "ptwin7 = '7_win_target'\n",
    "ptwin10 = '10_win_target'\n",
    "yw = df[win]\n",
    "y3 = df[ptwin3]\n",
    "y5 = df[ptwin5]\n",
    "y7 = df[ptwin7]\n",
    "y10 = df[ptwin10]\n",
    "\n",
    "target_cols = ['win_target','3_win_target','5_win_target','7_win_target', '10_win_target']"
   ]
  },
  {
   "cell_type": "code",
   "execution_count": 5,
   "metadata": {
    "scrolled": true
   },
   "outputs": [
    {
     "data": {
      "text/plain": [
       "0        True\n",
       "1        True\n",
       "2       False\n",
       "3        True\n",
       "4        True\n",
       "        ...  \n",
       "1705     True\n",
       "1706    False\n",
       "1707    False\n",
       "1708     True\n",
       "1709     True\n",
       "Name: win_target, Length: 1710, dtype: bool"
      ]
     },
     "execution_count": 5,
     "metadata": {},
     "output_type": "execute_result"
    }
   ],
   "source": [
    "yw"
   ]
  },
  {
   "cell_type": "code",
   "execution_count": 7,
   "metadata": {},
   "outputs": [
    {
     "data": {
      "text/plain": [
       "0"
      ]
     },
     "execution_count": 7,
     "metadata": {},
     "output_type": "execute_result"
    }
   ],
   "source": [
    "df['Team'].isna().sum()"
   ]
  },
  {
   "cell_type": "code",
   "execution_count": 8,
   "metadata": {},
   "outputs": [
    {
     "data": {
      "text/plain": [
       "array(['LAL', 'MIL', 'MIN', 'NYK', 'ORL', 'PHX', 'POR', 'WAS', 'BKN',\n",
       "       'CHA', 'CHI', 'CLE', 'DAL', 'DEN', 'DET', 'GSW', 'IND', 'LAC',\n",
       "       'MEM', 'MIA', 'OKC', 'SAC', 'SAS', 'TOR', 'UTA', 'ATL', 'BOS',\n",
       "       'HOU', 'NOP', 'PHI'], dtype=object)"
      ]
     },
     "execution_count": 8,
     "metadata": {},
     "output_type": "execute_result"
    }
   ],
   "source": [
    "df['Team'].unique()"
   ]
  },
  {
   "cell_type": "markdown",
   "metadata": {},
   "source": [
    "**Create Dictionary of Teams**"
   ]
  },
  {
   "cell_type": "code",
   "execution_count": 6,
   "metadata": {},
   "outputs": [],
   "source": [
    "team_dict = {'ATL' : 0,\n",
    "             'BKN' : 1,\n",
    "             'BOS' : 2,\n",
    "             'CHA' : 3,\n",
    "             'CHI' : 4,\n",
    "             'CLE' : 5,\n",
    "             'DAL' : 6,\n",
    "             'DEN' : 7,\n",
    "             'DET' : 8,\n",
    "             'GSW' : 9,\n",
    "             'HOU' : 10,\n",
    "             'IND' : 11,\n",
    "             'LAC' : 12,\n",
    "             'LAL' : 13,\n",
    "             'MEM' : 14,\n",
    "             'MIA' : 15,\n",
    "             'MIL' : 16,\n",
    "             'MIN' : 17,\n",
    "             'NOP' : 18,\n",
    "             'NYK' : 19,\n",
    "             'OKC' : 20,\n",
    "             'ORL' : 21,\n",
    "             'PHI' : 22,\n",
    "             'PHX' : 23,\n",
    "             'POR' : 24,\n",
    "             'SAC' : 25,\n",
    "             'SAS' : 26,\n",
    "             'TOR' : 27,\n",
    "             'UTA' : 28,\n",
    "             'WAS' : 29}"
   ]
  },
  {
   "cell_type": "markdown",
   "metadata": {},
   "source": [
    "**Change Teams to Number Values**"
   ]
  },
  {
   "cell_type": "code",
   "execution_count": 150,
   "metadata": {
    "scrolled": true
   },
   "outputs": [],
   "source": [
    "df['Team'] = df['Team'].map(team_dict)\n",
    "# df['Team1'] = df['Team1'].map(team_dict)\n",
    "# df['Team2'] = df['Team2'].map(team_dict)"
   ]
  },
  {
   "cell_type": "code",
   "execution_count": null,
   "metadata": {},
   "outputs": [],
   "source": [
    "df['Team2'].isna().sum()"
   ]
  },
  {
   "cell_type": "code",
   "execution_count": 8,
   "metadata": {},
   "outputs": [
    {
     "data": {
      "text/html": [
       "<div>\n",
       "<style scoped>\n",
       "    .dataframe tbody tr th:only-of-type {\n",
       "        vertical-align: middle;\n",
       "    }\n",
       "\n",
       "    .dataframe tbody tr th {\n",
       "        vertical-align: top;\n",
       "    }\n",
       "\n",
       "    .dataframe thead th {\n",
       "        text-align: right;\n",
       "    }\n",
       "</style>\n",
       "<table border=\"1\" class=\"dataframe\">\n",
       "  <thead>\n",
       "    <tr style=\"text-align: right;\">\n",
       "      <th></th>\n",
       "      <th>Team</th>\n",
       "      <th>PTS</th>\n",
       "      <th>FGM</th>\n",
       "      <th>FGA</th>\n",
       "      <th>FG%</th>\n",
       "      <th>3PM</th>\n",
       "      <th>3PA</th>\n",
       "      <th>3P%</th>\n",
       "      <th>FTM</th>\n",
       "      <th>FTA</th>\n",
       "      <th>...</th>\n",
       "      <th>TOV</th>\n",
       "      <th>STL</th>\n",
       "      <th>BLK</th>\n",
       "      <th>PF</th>\n",
       "      <th>+/-</th>\n",
       "      <th>win_target</th>\n",
       "      <th>3_win_target</th>\n",
       "      <th>5_win_target</th>\n",
       "      <th>7_win_target</th>\n",
       "      <th>10_win_target</th>\n",
       "    </tr>\n",
       "  </thead>\n",
       "  <tbody>\n",
       "    <tr>\n",
       "      <td>0</td>\n",
       "      <td>13</td>\n",
       "      <td>74</td>\n",
       "      <td>31</td>\n",
       "      <td>51</td>\n",
       "      <td>60.8</td>\n",
       "      <td>6</td>\n",
       "      <td>15</td>\n",
       "      <td>40.0</td>\n",
       "      <td>6</td>\n",
       "      <td>10</td>\n",
       "      <td>...</td>\n",
       "      <td>6</td>\n",
       "      <td>8</td>\n",
       "      <td>4</td>\n",
       "      <td>9</td>\n",
       "      <td>33</td>\n",
       "      <td>True</td>\n",
       "      <td>True</td>\n",
       "      <td>True</td>\n",
       "      <td>True</td>\n",
       "      <td>False</td>\n",
       "    </tr>\n",
       "    <tr>\n",
       "      <td>1</td>\n",
       "      <td>16</td>\n",
       "      <td>52</td>\n",
       "      <td>20</td>\n",
       "      <td>48</td>\n",
       "      <td>41.7</td>\n",
       "      <td>3</td>\n",
       "      <td>14</td>\n",
       "      <td>21.4</td>\n",
       "      <td>9</td>\n",
       "      <td>13</td>\n",
       "      <td>...</td>\n",
       "      <td>6</td>\n",
       "      <td>3</td>\n",
       "      <td>7</td>\n",
       "      <td>9</td>\n",
       "      <td>1</td>\n",
       "      <td>True</td>\n",
       "      <td>False</td>\n",
       "      <td>False</td>\n",
       "      <td>False</td>\n",
       "      <td>False</td>\n",
       "    </tr>\n",
       "    <tr>\n",
       "      <td>2</td>\n",
       "      <td>17</td>\n",
       "      <td>51</td>\n",
       "      <td>16</td>\n",
       "      <td>47</td>\n",
       "      <td>34.0</td>\n",
       "      <td>8</td>\n",
       "      <td>26</td>\n",
       "      <td>30.8</td>\n",
       "      <td>11</td>\n",
       "      <td>13</td>\n",
       "      <td>...</td>\n",
       "      <td>8</td>\n",
       "      <td>3</td>\n",
       "      <td>6</td>\n",
       "      <td>12</td>\n",
       "      <td>-1</td>\n",
       "      <td>False</td>\n",
       "      <td>False</td>\n",
       "      <td>False</td>\n",
       "      <td>False</td>\n",
       "      <td>False</td>\n",
       "    </tr>\n",
       "    <tr>\n",
       "      <td>3</td>\n",
       "      <td>19</td>\n",
       "      <td>51</td>\n",
       "      <td>22</td>\n",
       "      <td>51</td>\n",
       "      <td>43.1</td>\n",
       "      <td>4</td>\n",
       "      <td>14</td>\n",
       "      <td>28.6</td>\n",
       "      <td>3</td>\n",
       "      <td>6</td>\n",
       "      <td>...</td>\n",
       "      <td>5</td>\n",
       "      <td>0</td>\n",
       "      <td>4</td>\n",
       "      <td>12</td>\n",
       "      <td>3</td>\n",
       "      <td>True</td>\n",
       "      <td>True</td>\n",
       "      <td>True</td>\n",
       "      <td>True</td>\n",
       "      <td>True</td>\n",
       "    </tr>\n",
       "    <tr>\n",
       "      <td>4</td>\n",
       "      <td>21</td>\n",
       "      <td>62</td>\n",
       "      <td>23</td>\n",
       "      <td>51</td>\n",
       "      <td>45.1</td>\n",
       "      <td>8</td>\n",
       "      <td>18</td>\n",
       "      <td>44.4</td>\n",
       "      <td>8</td>\n",
       "      <td>8</td>\n",
       "      <td>...</td>\n",
       "      <td>4</td>\n",
       "      <td>7</td>\n",
       "      <td>3</td>\n",
       "      <td>11</td>\n",
       "      <td>4</td>\n",
       "      <td>True</td>\n",
       "      <td>True</td>\n",
       "      <td>True</td>\n",
       "      <td>True</td>\n",
       "      <td>True</td>\n",
       "    </tr>\n",
       "  </tbody>\n",
       "</table>\n",
       "<p>5 rows × 25 columns</p>\n",
       "</div>"
      ],
      "text/plain": [
       "   Team  PTS  FGM  FGA   FG%  3PM  3PA   3P%  FTM  FTA  ...  TOV  STL  BLK  \\\n",
       "0    13   74   31   51  60.8    6   15  40.0    6   10  ...    6    8    4   \n",
       "1    16   52   20   48  41.7    3   14  21.4    9   13  ...    6    3    7   \n",
       "2    17   51   16   47  34.0    8   26  30.8   11   13  ...    8    3    6   \n",
       "3    19   51   22   51  43.1    4   14  28.6    3    6  ...    5    0    4   \n",
       "4    21   62   23   51  45.1    8   18  44.4    8    8  ...    4    7    3   \n",
       "\n",
       "   PF  +/-  win_target  3_win_target  5_win_target  7_win_target  \\\n",
       "0   9   33        True          True          True          True   \n",
       "1   9    1        True         False         False         False   \n",
       "2  12   -1       False         False         False         False   \n",
       "3  12    3        True          True          True          True   \n",
       "4  11    4        True          True          True          True   \n",
       "\n",
       "   10_win_target  \n",
       "0          False  \n",
       "1          False  \n",
       "2          False  \n",
       "3           True  \n",
       "4           True  \n",
       "\n",
       "[5 rows x 25 columns]"
      ]
     },
     "execution_count": 8,
     "metadata": {},
     "output_type": "execute_result"
    }
   ],
   "source": [
    "df.head()"
   ]
  },
  {
   "cell_type": "markdown",
   "metadata": {},
   "source": [
    "## Create Naive Model"
   ]
  },
  {
   "cell_type": "code",
   "execution_count": 151,
   "metadata": {},
   "outputs": [],
   "source": [
    "X = df.drop(target_cols,axis = 1)"
   ]
  },
  {
   "cell_type": "code",
   "execution_count": 152,
   "metadata": {
    "scrolled": false
   },
   "outputs": [
    {
     "data": {
      "text/html": [
       "<div>\n",
       "<style scoped>\n",
       "    .dataframe tbody tr th:only-of-type {\n",
       "        vertical-align: middle;\n",
       "    }\n",
       "\n",
       "    .dataframe tbody tr th {\n",
       "        vertical-align: top;\n",
       "    }\n",
       "\n",
       "    .dataframe thead th {\n",
       "        text-align: right;\n",
       "    }\n",
       "</style>\n",
       "<table border=\"1\" class=\"dataframe\">\n",
       "  <thead>\n",
       "    <tr style=\"text-align: right;\">\n",
       "      <th></th>\n",
       "      <th>Team</th>\n",
       "      <th>PTS</th>\n",
       "      <th>FGM</th>\n",
       "      <th>FGA</th>\n",
       "      <th>FG%</th>\n",
       "      <th>3PM</th>\n",
       "      <th>3PA</th>\n",
       "      <th>3P%</th>\n",
       "      <th>FTM</th>\n",
       "      <th>FTA</th>\n",
       "      <th>FT%</th>\n",
       "      <th>OREB</th>\n",
       "      <th>DREB</th>\n",
       "      <th>REB</th>\n",
       "      <th>AST</th>\n",
       "      <th>TOV</th>\n",
       "      <th>STL</th>\n",
       "      <th>BLK</th>\n",
       "      <th>PF</th>\n",
       "      <th>+/-</th>\n",
       "    </tr>\n",
       "  </thead>\n",
       "  <tbody>\n",
       "    <tr>\n",
       "      <td>0</td>\n",
       "      <td>13</td>\n",
       "      <td>74</td>\n",
       "      <td>31</td>\n",
       "      <td>51</td>\n",
       "      <td>60.8</td>\n",
       "      <td>6</td>\n",
       "      <td>15</td>\n",
       "      <td>40.0</td>\n",
       "      <td>6</td>\n",
       "      <td>10</td>\n",
       "      <td>60.0</td>\n",
       "      <td>7</td>\n",
       "      <td>15</td>\n",
       "      <td>22</td>\n",
       "      <td>21</td>\n",
       "      <td>6</td>\n",
       "      <td>8</td>\n",
       "      <td>4</td>\n",
       "      <td>9</td>\n",
       "      <td>33</td>\n",
       "    </tr>\n",
       "    <tr>\n",
       "      <td>1</td>\n",
       "      <td>16</td>\n",
       "      <td>52</td>\n",
       "      <td>20</td>\n",
       "      <td>48</td>\n",
       "      <td>41.7</td>\n",
       "      <td>3</td>\n",
       "      <td>14</td>\n",
       "      <td>21.4</td>\n",
       "      <td>9</td>\n",
       "      <td>13</td>\n",
       "      <td>69.2</td>\n",
       "      <td>5</td>\n",
       "      <td>23</td>\n",
       "      <td>28</td>\n",
       "      <td>12</td>\n",
       "      <td>6</td>\n",
       "      <td>3</td>\n",
       "      <td>7</td>\n",
       "      <td>9</td>\n",
       "      <td>1</td>\n",
       "    </tr>\n",
       "    <tr>\n",
       "      <td>2</td>\n",
       "      <td>17</td>\n",
       "      <td>51</td>\n",
       "      <td>16</td>\n",
       "      <td>47</td>\n",
       "      <td>34.0</td>\n",
       "      <td>8</td>\n",
       "      <td>26</td>\n",
       "      <td>30.8</td>\n",
       "      <td>11</td>\n",
       "      <td>13</td>\n",
       "      <td>84.6</td>\n",
       "      <td>4</td>\n",
       "      <td>26</td>\n",
       "      <td>30</td>\n",
       "      <td>11</td>\n",
       "      <td>8</td>\n",
       "      <td>3</td>\n",
       "      <td>6</td>\n",
       "      <td>12</td>\n",
       "      <td>-1</td>\n",
       "    </tr>\n",
       "    <tr>\n",
       "      <td>3</td>\n",
       "      <td>19</td>\n",
       "      <td>51</td>\n",
       "      <td>22</td>\n",
       "      <td>51</td>\n",
       "      <td>43.1</td>\n",
       "      <td>4</td>\n",
       "      <td>14</td>\n",
       "      <td>28.6</td>\n",
       "      <td>3</td>\n",
       "      <td>6</td>\n",
       "      <td>50.0</td>\n",
       "      <td>5</td>\n",
       "      <td>23</td>\n",
       "      <td>28</td>\n",
       "      <td>15</td>\n",
       "      <td>5</td>\n",
       "      <td>0</td>\n",
       "      <td>4</td>\n",
       "      <td>12</td>\n",
       "      <td>3</td>\n",
       "    </tr>\n",
       "    <tr>\n",
       "      <td>4</td>\n",
       "      <td>21</td>\n",
       "      <td>62</td>\n",
       "      <td>23</td>\n",
       "      <td>51</td>\n",
       "      <td>45.1</td>\n",
       "      <td>8</td>\n",
       "      <td>18</td>\n",
       "      <td>44.4</td>\n",
       "      <td>8</td>\n",
       "      <td>8</td>\n",
       "      <td>100.0</td>\n",
       "      <td>6</td>\n",
       "      <td>16</td>\n",
       "      <td>22</td>\n",
       "      <td>11</td>\n",
       "      <td>4</td>\n",
       "      <td>7</td>\n",
       "      <td>3</td>\n",
       "      <td>11</td>\n",
       "      <td>4</td>\n",
       "    </tr>\n",
       "  </tbody>\n",
       "</table>\n",
       "</div>"
      ],
      "text/plain": [
       "   Team  PTS  FGM  FGA   FG%  3PM  3PA   3P%  FTM  FTA    FT%  OREB  DREB  \\\n",
       "0    13   74   31   51  60.8    6   15  40.0    6   10   60.0     7    15   \n",
       "1    16   52   20   48  41.7    3   14  21.4    9   13   69.2     5    23   \n",
       "2    17   51   16   47  34.0    8   26  30.8   11   13   84.6     4    26   \n",
       "3    19   51   22   51  43.1    4   14  28.6    3    6   50.0     5    23   \n",
       "4    21   62   23   51  45.1    8   18  44.4    8    8  100.0     6    16   \n",
       "\n",
       "   REB  AST  TOV  STL  BLK  PF  +/-  \n",
       "0   22   21    6    8    4   9   33  \n",
       "1   28   12    6    3    7   9    1  \n",
       "2   30   11    8    3    6  12   -1  \n",
       "3   28   15    5    0    4  12    3  \n",
       "4   22   11    4    7    3  11    4  "
      ]
     },
     "execution_count": 152,
     "metadata": {},
     "output_type": "execute_result"
    }
   ],
   "source": [
    "X.head()"
   ]
  },
  {
   "cell_type": "code",
   "execution_count": 11,
   "metadata": {},
   "outputs": [
    {
     "data": {
      "text/plain": [
       "Index(['Team', 'PTS', 'FGM', 'FGA', 'FG%', '3PM', '3PA', '3P%', 'FTM', 'FTA',\n",
       "       'FT%', 'OREB', 'DREB', 'REB', 'AST', 'TOV', 'STL', 'BLK', 'PF', '+/-'],\n",
       "      dtype='object')"
      ]
     },
     "execution_count": 11,
     "metadata": {},
     "output_type": "execute_result"
    }
   ],
   "source": [
    "X.columns"
   ]
  },
  {
   "cell_type": "markdown",
   "metadata": {},
   "source": [
    "**Train Model and Test Accuracy on just Winning**"
   ]
  },
  {
   "cell_type": "code",
   "execution_count": 12,
   "metadata": {},
   "outputs": [],
   "source": [
    "X_train, X_test, y_train, y_test = train_test_split(X, yw, test_size=0.20)"
   ]
  },
  {
   "cell_type": "code",
   "execution_count": 13,
   "metadata": {},
   "outputs": [],
   "source": [
    "scaler = MinMaxScaler()\n",
    "lr = LogisticRegression()\n",
    "model_w = make_pipeline(scaler, lr)\n",
    "\n",
    "model_w.fit(X_train, y_train)\n",
    "\n",
    "train_preds = model_w.predict(X_train)\n",
    "test_preds = model_w.predict(X_test)"
   ]
  },
  {
   "cell_type": "code",
   "execution_count": 16,
   "metadata": {
    "scrolled": false
   },
   "outputs": [
    {
     "name": "stdout",
     "output_type": "stream",
     "text": [
      "0.7175438596491229 +/- 0.023869393721588947\n"
     ]
    }
   ],
   "source": [
    "scores = cross_val_score(model_w, X, yw, cv=5, scoring='accuracy')\n",
    "print(scores.mean(), \"+/-\", scores.std())"
   ]
  },
  {
   "cell_type": "markdown",
   "metadata": {},
   "source": [
    "**Train Model and Test Accuracy on Winning by 3**"
   ]
  },
  {
   "cell_type": "code",
   "execution_count": 153,
   "metadata": {},
   "outputs": [],
   "source": [
    "X_train, X_test, y_train, y_test = train_test_split(X, y3, test_size=0.20)"
   ]
  },
  {
   "cell_type": "code",
   "execution_count": 154,
   "metadata": {},
   "outputs": [
    {
     "data": {
      "text/plain": [
       "['Team',\n",
       " 'PTS',\n",
       " 'FGM',\n",
       " 'FGA',\n",
       " 'FG%',\n",
       " '3PM',\n",
       " '3PA',\n",
       " '3P%',\n",
       " 'FTM',\n",
       " 'FTA',\n",
       " 'FT%',\n",
       " 'OREB',\n",
       " 'DREB',\n",
       " 'REB',\n",
       " 'AST',\n",
       " 'TOV',\n",
       " 'STL',\n",
       " 'BLK',\n",
       " 'PF',\n",
       " '+/-']"
      ]
     },
     "execution_count": 154,
     "metadata": {},
     "output_type": "execute_result"
    }
   ],
   "source": [
    "X_train.columns.tolist()"
   ]
  },
  {
   "cell_type": "code",
   "execution_count": 155,
   "metadata": {},
   "outputs": [],
   "source": [
    "scaler = MinMaxScaler()\n",
    "lr = LogisticRegression()\n",
    "model_3 = make_pipeline(scaler, lr)\n",
    "\n",
    "model_3.fit(X_train, y_train)\n",
    "\n",
    "train_preds = model_3.predict(X_train)\n",
    "test_preds = model_3.predict(X_test)"
   ]
  },
  {
   "cell_type": "code",
   "execution_count": 156,
   "metadata": {},
   "outputs": [
    {
     "name": "stdout",
     "output_type": "stream",
     "text": [
      "0.7292397660818712 +/- 0.02485208112383133\n"
     ]
    }
   ],
   "source": [
    "scores = cross_val_score(model_3, X, y3, cv=5, scoring='accuracy')\n",
    "print(scores.mean(), \"+/-\", scores.std())"
   ]
  },
  {
   "cell_type": "markdown",
   "metadata": {},
   "source": [
    "**Train Model and Test Accuracy on Winning by 5**"
   ]
  },
  {
   "cell_type": "code",
   "execution_count": 20,
   "metadata": {},
   "outputs": [],
   "source": [
    "X_train, X_test, y_train, y_test = train_test_split(X, y5, test_size=0.20)"
   ]
  },
  {
   "cell_type": "code",
   "execution_count": 21,
   "metadata": {},
   "outputs": [],
   "source": [
    "scaler = MinMaxScaler()\n",
    "lr = LogisticRegression()\n",
    "model_5 = make_pipeline(scaler, lr)\n",
    "\n",
    "model_5.fit(X_train, y_train)\n",
    "\n",
    "train_preds = model_5.predict(X_train)\n",
    "test_preds = model_5.predict(X_test)"
   ]
  },
  {
   "cell_type": "code",
   "execution_count": 31,
   "metadata": {},
   "outputs": [
    {
     "name": "stdout",
     "output_type": "stream",
     "text": [
      "0.7304093567251462 +/- 0.020791098052200214\n"
     ]
    }
   ],
   "source": [
    "scores = cross_val_score(model_5, X, y5, cv=5, scoring='accuracy')\n",
    "print(scores.mean(), \"+/-\", scores.std())"
   ]
  },
  {
   "cell_type": "markdown",
   "metadata": {},
   "source": [
    "**Train Model and Test Accuracy on Winning by 7**"
   ]
  },
  {
   "cell_type": "code",
   "execution_count": 23,
   "metadata": {},
   "outputs": [],
   "source": [
    "X_train, X_test, y_train, y_test = train_test_split(X, y7, test_size=0.20)"
   ]
  },
  {
   "cell_type": "code",
   "execution_count": 24,
   "metadata": {},
   "outputs": [],
   "source": [
    "scaler = MinMaxScaler()\n",
    "lr = LogisticRegression()\n",
    "model_7 = make_pipeline(scaler, lr)\n",
    "\n",
    "model_7.fit(X_train, y_train)\n",
    "\n",
    "train_preds = model_7.predict(X_train)\n",
    "test_preds = model_7.predict(X_test)"
   ]
  },
  {
   "cell_type": "code",
   "execution_count": 32,
   "metadata": {},
   "outputs": [
    {
     "name": "stdout",
     "output_type": "stream",
     "text": [
      "0.7538011695906434 +/- 0.012182845997660608\n"
     ]
    }
   ],
   "source": [
    "scores = cross_val_score(model_7, X, y7, cv=5, scoring='accuracy')\n",
    "print(scores.mean(), \"+/-\", scores.std())"
   ]
  },
  {
   "cell_type": "markdown",
   "metadata": {},
   "source": [
    "**Train Model and Test Accuracy on Winning by 10**"
   ]
  },
  {
   "cell_type": "code",
   "execution_count": 130,
   "metadata": {},
   "outputs": [],
   "source": [
    "X_train, X_test, y_train, y_test = train_test_split(X, y10, test_size=0.20)"
   ]
  },
  {
   "cell_type": "code",
   "execution_count": 131,
   "metadata": {},
   "outputs": [
    {
     "data": {
      "text/plain": [
       "Index(['Team', 'PTS', 'FGM', 'FGA', 'FG%', '3PM', '3PA', '3P%', 'FTM', 'FTA',\n",
       "       'FT%', 'OREB', 'DREB', 'REB', 'AST', 'TOV', 'STL', 'BLK', 'PF', '+/-'],\n",
       "      dtype='object')"
      ]
     },
     "execution_count": 131,
     "metadata": {},
     "output_type": "execute_result"
    }
   ],
   "source": [
    "X_train.columns"
   ]
  },
  {
   "cell_type": "code",
   "execution_count": 27,
   "metadata": {},
   "outputs": [],
   "source": [
    "scaler = MinMaxScaler()\n",
    "lr = LogisticRegression()\n",
    "model_10 = make_pipeline(scaler, lr)\n",
    "\n",
    "model_10.fit(X_train, y_train)\n",
    "\n",
    "\n",
    "train_preds = model_10.predict(X_train)\n",
    "test_preds = model_10.predict(X_test)"
   ]
  },
  {
   "cell_type": "code",
   "execution_count": 33,
   "metadata": {},
   "outputs": [
    {
     "name": "stdout",
     "output_type": "stream",
     "text": [
      "0.8122807017543859 +/- 0.015405777628443858\n"
     ]
    }
   ],
   "source": [
    "scores = cross_val_score(model_10, X, y10, cv=5, scoring='accuracy')\n",
    "print(scores.mean(), \"+/-\", scores.std())"
   ]
  },
  {
   "cell_type": "markdown",
   "metadata": {},
   "source": [
    "**Save models**"
   ]
  },
  {
   "cell_type": "code",
   "execution_count": null,
   "metadata": {},
   "outputs": [],
   "source": [
    "joblib.dump(model_w,'model_w.sav')\n",
    "joblib.dump(model_3,'model_3.sav')\n",
    "joblib.dump(model_5,'model_5.sav')\n",
    "joblib.dump(model_7,'model_7.sav')\n",
    "joblib.dump(model_10,'model_10.sav')"
   ]
  },
  {
   "cell_type": "markdown",
   "metadata": {},
   "source": [
    "## Feature Importances"
   ]
  },
  {
   "cell_type": "markdown",
   "metadata": {},
   "source": [
    "**This helps determine what features each model finds important**"
   ]
  },
  {
   "cell_type": "code",
   "execution_count": 93,
   "metadata": {},
   "outputs": [],
   "source": [
    "# Model Exploration\n",
    "class FeatureImportance():\n",
    "    def __init__(\n",
    "        self, model, feats=None, target='target', \n",
    "        test_size=0.25, scoring='accuracy', cv=5, random_state=42):\n",
    "        self.model = model\n",
    "        self.feats = feats\n",
    "        self.target = target\n",
    "        self.test_size = test_size\n",
    "        self.scoring = scoring\n",
    "        self.cv = cv\n",
    "        self.random_state = random_state\n",
    "        # permutation variables\n",
    "        self.imp_vals = None\n",
    "        self.imp_all = None\n",
    "        self.std = None\n",
    "        self.indices = None\n",
    "        # leave-one-feature-out variables\n",
    "        self.importance_df = None\n",
    "    def permutation(self, X, y):\n",
    "        if self.feats is None:\n",
    "            self.feats = pd.DataFrame(X).columns.tolist()\n",
    "        X_train, X_test, y_train, y_test = train_test_split(\n",
    "            X[self.feats].values, y.values, \n",
    "            test_size=self.test_size, random_state=self.random_state, \n",
    "            stratify=y.values\n",
    "        )\n",
    "        # NOTE: If 'model' is a pipe that needs to select columns\n",
    "        #  from a pandas dataframe object, this will break.\n",
    "        self.model.fit(X_train, y_train)\n",
    "        self.imp_vals, self.imp_all = feature_importance_permutation(\n",
    "            predict_method=self.model.predict, \n",
    "            X=X_test,\n",
    "            y=y_test,\n",
    "            metric='accuracy',\n",
    "            num_rounds=self.cv,\n",
    "            seed=self.random_state)\n",
    "        self.std = np.std(self.imp_all, axis=1)\n",
    "        self.indices = np.argsort(self.imp_vals)[::-1]\n",
    "        return self\n",
    "    def loo(self, X, y, random=False):\n",
    "        if self.feats is None:\n",
    "            self.feats = pd.DataFrame(X).columns.tolist()\n",
    "        # extract a sample of the data\n",
    "        sample_df = pd.DataFrame(X[self.feats].values)\n",
    "        sample_df.columns = self.feats\n",
    "        sample_df[self.target] = y.values\n",
    "        # inject a random variable and update \"feats\"\n",
    "        if random:\n",
    "            sample_df['random'] = np.random.normal(size=len(y))\n",
    "            self.feats = [c for c in sample_df.columns.tolist() if c not in [self.target]]\n",
    "        # define the validation scheme\n",
    "        kfold = StratifiedKFold(n_splits=self.cv, \n",
    "                                random_state=self.random_state)\n",
    "        # define the binary target and the features\n",
    "        dataset = Dataset(df=sample_df, target=self.target, features=self.feats)\n",
    "        # define the validation scheme and scorer. \n",
    "        lofo_imp = LOFOImportance(dataset, model=self.model, cv=kfold, scoring=self.scoring)\n",
    "        # get importances mean/std in DataFrame\n",
    "        self.importance_df = lofo_imp.get_importance()\n",
    "        return self\n",
    "    def permutation_report(self):\n",
    "        plt.figure(figsize=(20,8))\n",
    "        plt.title(\"Feature Importance via Permutation Importance\")\n",
    "        plt.bar(range(len(self.feats)),      # \n",
    "                self.imp_vals[self.indices], # \n",
    "                yerr=self.std[self.indices]) # \n",
    "        plt.xticks(range(len(self.feats)), \n",
    "                   np.array(self.feats)[self.indices])\n",
    "        plt.xlim([-1, len(self.feats)])\n",
    "        plt.ylim([0, self.imp_vals.max()*1.5])\n",
    "        plt.tight_layout()\n",
    "        plt.show()\n",
    "    def loo_report(self):\n",
    "        # plot the means and standard deviations of the importances\n",
    "        plot_importance(self.importance_df, figsize=(12, 20))\n",
    "    def threshold_report(self, X, y, z=1.0, max_iter=10):\n",
    "        count = 0\n",
    "        # initialize the stats\n",
    "        means = self.importance_df.importance_mean\n",
    "        stds = self.importance_df.importance_std\n",
    "        ubs = means + z*stds\n",
    "        key = (ubs > 0.0)\n",
    "        # keep trying to reduce the features down while we still have \"negative\"\n",
    "        # feature importances --judging by the (??) CI upper-bounds-- but only\n",
    "        # for a max set of 10 iterations\n",
    "        while (not key.all()) and (count < max_iter):\n",
    "            # update the used features\n",
    "            self.feats = self.importance_df[key]['feature'].tolist()\n",
    "            self.loo(X, y)\n",
    "            # update stats\n",
    "            means = self.importance_df.importance_mean\n",
    "            stds = self.importance_df.importance_std\n",
    "            ubs = means + z*stds\n",
    "            key = (ubs > 0.0)\n",
    "            # increase the count\n",
    "            count += 1\n",
    "        self.loo_report()\n",
    "    def noise_report(self, X, y):\n",
    "        self.loo(X, y, True)\n",
    "        self.loo_report()"
   ]
  },
  {
   "cell_type": "code",
   "execution_count": 94,
   "metadata": {},
   "outputs": [
    {
     "data": {
      "image/png": "[encoded data removed]",
      "text/plain": [
       "<Figure size 1440x576 with 1 Axes>"
      ]
     },
     "metadata": {
      "needs_background": "light"
     },
     "output_type": "display_data"
    }
   ],
   "source": [
    "used_cols = ['Team', 'PTS', 'FGM', 'FGA', 'FG%', '3PM', '3PA', '3P%', 'FTM', 'FTA',\n",
    "       'FT%', 'OREB', 'DREB', 'REB', 'AST', 'TOV', 'STL', 'BLK', 'PF', '+/-']\n",
    "\n",
    "X = pd.DataFrame(X, columns=used_cols)\n",
    "\n",
    "fi = FeatureImportance(model_3, feats=used_cols)\n",
    "fi.permutation(pd.DataFrame(X, columns=used_cols), y3)\n",
    "fi.permutation_report()"
   ]
  },
  {
   "cell_type": "code",
   "execution_count": 105,
   "metadata": {},
   "outputs": [
    {
     "data": {
      "application/vnd.jupyter.widget-view+json": {
       "model_id": "052a3a82c703475f983bf495f9cc0919",
       "version_major": 2,
       "version_minor": 0
      },
      "text/plain": [
       "HBox(children=(IntProgress(value=0, max=20), HTML(value='')))"
      ]
     },
     "metadata": {},
     "output_type": "display_data"
    },
    {
     "name": "stdout",
     "output_type": "stream",
     "text": [
      "\n"
     ]
    },
    {
     "data": {
      "image/png": "[encoded data removed]",
      "text/plain": [
       "<Figure size 864x1440 with 1 Axes>"
      ]
     },
     "metadata": {
      "needs_background": "light"
     },
     "output_type": "display_data"
    }
   ],
   "source": [
    "fi.loo(pd.DataFrame(X), y10)\n",
    "fi.loo_report()"
   ]
  },
  {
   "cell_type": "code",
   "execution_count": 89,
   "metadata": {},
   "outputs": [],
   "source": [
    "# fi.threshold_report(X, y3, z=0, max_iter=5)"
   ]
  },
  {
   "cell_type": "code",
   "execution_count": 106,
   "metadata": {},
   "outputs": [
    {
     "data": {
      "application/vnd.jupyter.widget-view+json": {
       "model_id": "c22dbfb611bb449fb1d97524e1e56970",
       "version_major": 2,
       "version_minor": 0
      },
      "text/plain": [
       "HBox(children=(IntProgress(value=0, max=21), HTML(value='')))"
      ]
     },
     "metadata": {},
     "output_type": "display_data"
    },
    {
     "name": "stdout",
     "output_type": "stream",
     "text": [
      "\n"
     ]
    },
    {
     "data": {
      "image/png": "[encoded data removed]",
      "text/plain": [
       "<Figure size 864x1440 with 1 Axes>"
      ]
     },
     "metadata": {
      "needs_background": "light"
     },
     "output_type": "display_data"
    }
   ],
   "source": [
    "fi.noise_report(pd.DataFrame(X), y10)"
   ]
  }
 ],
 "metadata": {
  "kernelspec": {
   "display_name": "Python [conda env:learn-env] *",
   "language": "python",
   "name": "conda-env-learn-env-py"
  },
  "language_info": {
   "codemirror_mode": {
    "name": "ipython",
    "version": 3
   },
   "file_extension": ".py",
   "mimetype": "text/x-python",
   "name": "python",
   "nbconvert_exporter": "python",
   "pygments_lexer": "ipython3",
   "version": "3.6.9"
  }
 },
 "nbformat": 4,
 "nbformat_minor": 2
}
